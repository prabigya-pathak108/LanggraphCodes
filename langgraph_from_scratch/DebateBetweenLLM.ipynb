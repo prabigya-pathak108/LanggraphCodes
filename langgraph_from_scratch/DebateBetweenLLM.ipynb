{
 "cells": [
  {
   "cell_type": "code",
   "execution_count": 1,
   "metadata": {},
   "outputs": [],
   "source": [
    "import sys\n",
    "import os\n",
    "current_dir = os.getcwd()\n",
    "sys.path.append(os.path.abspath(os.path.join(current_dir, '..')))\n",
    "from IPython.display import Image, display\n"
   ]
  },
  {
   "cell_type": "code",
   "execution_count": 2,
   "metadata": {},
   "outputs": [],
   "source": [
    "\n",
    "GOOGLE_API_KEY=os.getenv(\"GEMINI_API_KEY1\")\n",
    "TAVILY_API_KEY=os.getenv(\"TAVILY_API_KEY\")\n",
    "GROQ_API_KEY=os.getenv(\"GROQ_API\")\n",
    "HUGGINGFACE_API=os.getenv(\"HUGGINGFACE_API_KEY\")\n",
    "LANGCHAIN_PROJECT=os.getenv(\"LANGCHAIN_PROJECT\") or \"sample_agent_project\""
   ]
  },
  {
   "cell_type": "code",
   "execution_count": 3,
   "metadata": {},
   "outputs": [],
   "source": [
    "os.environ[\"GOOGLE_API_KEY\"] = GOOGLE_API_KEY\n",
    "os.environ[\"TAVILY_API_KEY\"] = TAVILY_API_KEY\n",
    "os.environ[\"GROQ_API_KEY\"]= GROQ_API_KEY\n",
    "os.environ[\"HUGGINGFACE_API_KEY\"] = HUGGINGFACE_API"
   ]
  },
  {
   "cell_type": "code",
   "execution_count": 4,
   "metadata": {},
   "outputs": [
    {
     "name": "stderr",
     "output_type": "stream",
     "text": [
      "C:\\Users\\prabigya\\AppData\\Local\\Temp\\ipykernel_10848\\1814257612.py:7: LangChainDeprecationWarning: The class `HuggingFaceBgeEmbeddings` was deprecated in LangChain 0.2.2 and will be removed in 1.0. An updated version of the class exists in the :class:`~langchain-huggingface package and should be used instead. To use it run `pip install -U :class:`~langchain-huggingface` and import as `from :class:`~langchain_huggingface import HuggingFaceEmbeddings``.\n",
      "  embeddings = HuggingFaceBgeEmbeddings(\n",
      "c:\\Users\\prabigya\\miniconda3\\envs\\lang_graph_venv\\Lib\\site-packages\\tqdm\\auto.py:21: TqdmWarning: IProgress not found. Please update jupyter and ipywidgets. See https://ipywidgets.readthedocs.io/en/stable/user_install.html\n",
      "  from .autonotebook import tqdm as notebook_tqdm\n"
     ]
    }
   ],
   "source": [
    "from langchain_google_genai import GoogleGenerativeAIEmbeddings\n",
    "from langchain.embeddings import HuggingFaceBgeEmbeddings\n",
    "\n",
    "model_name = \"BAAI/bge-base-en-v1.5\"\n",
    "model_kwargs = {'device': 'cpu'}\n",
    "encode_kwargs = {'normalize_embeddings': True} # set True to compute cosine similarity\n",
    "embeddings = HuggingFaceBgeEmbeddings(\n",
    "    model_name=model_name,\n",
    "    model_kwargs=model_kwargs,\n",
    "    encode_kwargs=encode_kwargs,\n",
    ")\n",
    "\n",
    "from langchain_google_genai import ChatGoogleGenerativeAI\n",
    "llm = ChatGoogleGenerativeAI(model=\"gemini-1.5-flash\")"
   ]
  },
  {
   "cell_type": "code",
   "execution_count": 5,
   "metadata": {},
   "outputs": [],
   "source": [
    "from langchain_groq import ChatGroq\n",
    "import os\n",
    "llm=ChatGroq(model_name=\"Gemma2-9b-It\")"
   ]
  },
  {
   "cell_type": "code",
   "execution_count": 6,
   "metadata": {},
   "outputs": [],
   "source": [
    "from langchain_community.document_loaders import TextLoader, DirectoryLoader\n",
    "from langchain.text_splitter import RecursiveCharacterTextSplitter\n",
    "from langchain_community.vectorstores import Chroma\n",
    "from langchain import PromptTemplate\n",
    "from langchain_core.runnables import RunnableParallel, RunnablePassthrough , RunnableLambda\n",
    "from langchain_core.output_parsers import StrOutputParser"
   ]
  },
  {
   "cell_type": "code",
   "execution_count": 7,
   "metadata": {},
   "outputs": [],
   "source": [
    "from langgraph.graph import StateGraph, END\n",
    "from typing import TypedDict\n",
    "\n",
    "class State(TypedDict):\n",
    "    input: str\n",
    "    response: str"
   ]
  },
  {
   "cell_type": "code",
   "execution_count": 8,
   "metadata": {},
   "outputs": [],
   "source": [
    "def generate_response(state: State) -> State:\n",
    "    response = llm.invoke(state[\"input\"])\n",
    "    return {\"response\": response.content}\n",
    "\n",
    "def refine_response(state: State) -> State:\n",
    "    prompt = f\"Refine this response to be more concise: {state['response']}\"\n",
    "    refined = llm.invoke(prompt)\n",
    "    return {\"response\": refined.content}"
   ]
  },
  {
   "cell_type": "code",
   "execution_count": 9,
   "metadata": {},
   "outputs": [
    {
     "data": {
      "image/png": "[encoded data removed]",
      "text/plain": [
       "<IPython.core.display.Image object>"
      ]
     },
     "metadata": {},
     "output_type": "display_data"
    }
   ],
   "source": [
    "graph_builder = StateGraph(State)\n",
    "graph_builder.add_node(\"generate\", generate_response)\n",
    "graph_builder.add_node(\"refine\", refine_response)\n",
    "\n",
    "# Add edges\n",
    "graph_builder.add_edge(\"generate\", \"refine\")\n",
    "#graph.add_edge(\"refine\", END)\n",
    "\n",
    "# Set the entry point\n",
    "graph_builder.set_entry_point(\"generate\")\n",
    "\n",
    "# Compile the graph\n",
    "graph = graph_builder.compile()\n",
    "\n",
    "\n",
    "try:\n",
    "    display(Image(graph.get_graph().draw_mermaid_png()))\n",
    "except Exception:\n",
    "    # This requires some extra dependencies and is optional\n",
    "    pass"
   ]
  },
  {
   "cell_type": "code",
   "execution_count": 10,
   "metadata": {},
   "outputs": [
    {
     "data": {
      "text/plain": [
       "{'input': 'Hello',\n",
       " 'response': \"Here are a few more concise options:\\n\\n* **Hi! What can I do for you?**\\n* **Hello, how can I assist you?**\\n* **What can I help you with?** \\n\\n\\nLet me know if you'd like more variations! 😊 \\n\"}"
      ]
     },
     "execution_count": 10,
     "metadata": {},
     "output_type": "execute_result"
    }
   ],
   "source": [
    "response=graph.invoke({\"input\":\"Hello\"})\n",
    "response"
   ]
  },
  {
   "cell_type": "markdown",
   "metadata": {},
   "source": [
    "# Integrate RAG in langgraph"
   ]
  },
  {
   "cell_type": "code",
   "execution_count": 11,
   "metadata": {},
   "outputs": [],
   "source": [
    "\n",
    "loader=DirectoryLoader(r\"C:\\Users\\prabigya\\Desktop\\work_here\\langgraph_work\\dataset_folder\\txt_files\",glob=\"./*.txt\",loader_cls=TextLoader)\n",
    "docs=loader.load()\n",
    "text_splitter=RecursiveCharacterTextSplitter(\n",
    "    chunk_size=200,\n",
    "    chunk_overlap=10\n",
    ")\n",
    "new_docs = text_splitter.split_documents(documents=docs)\n",
    "doc_strings = [doc.page_content for doc in new_docs]\n",
    "\n",
    "db = Chroma.from_documents(new_docs, embeddings)\n",
    "\n",
    "retriever = db.as_retriever(search_kwargs={\"k\": 3})"
   ]
  },
  {
   "cell_type": "code",
   "execution_count": 12,
   "metadata": {},
   "outputs": [
    {
     "name": "stdout",
     "output_type": "stream",
     "text": [
      "{'source': 'C:\\\\Users\\\\prabigya\\\\Desktop\\\\work_here\\\\langgraph_work\\\\dataset_folder\\\\txt_files\\\\RAG_vs_FineTune.txt'}\n",
      "From examining the two architectures of fine-tuning vs RAG, we can see a number of key differences, one of the most striking is the overall complexity of the RAG system: but we should be careful not\n",
      "page_content='From examining the two architectures of fine-tuning vs RAG, we can see a number of key differences, one of the most striking is the overall complexity of the RAG system: but we should be careful not' metadata={'source': 'C:\\\\Users\\\\prabigya\\\\Desktop\\\\work_here\\\\langgraph_work\\\\dataset_folder\\\\txt_files\\\\RAG_vs_FineTune.txt'}\n",
      "page_content='Key Decision Factors\n",
      "When selecting between RAG and fine-tuning, consider these factors:' metadata={'source': 'C:\\\\Users\\\\prabigya\\\\Desktop\\\\work_here\\\\langgraph_work\\\\dataset_folder\\\\txt_files\\\\RAG_vs_FineTune.txt'}\n",
      "page_content='RAG vs. Fine-Tuning: Use RAG for transparent solutions with dynamic data (e.g., customer-facing chatbots). Fine-tune when deep domain customisation is needed (e.g., healthcare).' metadata={'source': 'C:\\\\Users\\\\prabigya\\\\Desktop\\\\work_here\\\\langgraph_work\\\\dataset_folder\\\\txt_files\\\\RAG_vs_FineTune.txt'}\n"
     ]
    },
    {
     "name": "stderr",
     "output_type": "stream",
     "text": [
      "C:\\Users\\prabigya\\AppData\\Local\\Temp\\ipykernel_17780\\573318122.py:2: LangChainDeprecationWarning: The method `BaseRetriever.get_relevant_documents` was deprecated in langchain-core 0.1.46 and will be removed in 1.0. Use :meth:`~invoke` instead.\n",
      "  docs = retriever.get_relevant_documents(query)\n"
     ]
    }
   ],
   "source": [
    "\n",
    "query = \"rag vs finetune\"\n",
    "docs = retriever.get_relevant_documents(query)\n",
    "print(docs[0].metadata)\n",
    "print(docs[0].page_content)\n",
    "\n",
    "for doc in docs:\n",
    "    print(doc)"
   ]
  },
  {
   "cell_type": "code",
   "execution_count": 13,
   "metadata": {},
   "outputs": [],
   "source": [
    "def question_answer(AgentState: dict)->dict:\n",
    "    message = AgentState[\"messages\"]\n",
    "    question=message[-1]\n",
    "\n",
    "    complete_prompt=\"Your task is to provide only the brief answer based on the user query. \\\n",
    "        Don't include too much reasoning. Following is the user query: \" + question\n",
    "    \n",
    "    response = llm.invoke(complete_prompt)\n",
    "    \n",
    "    AgentState['messages'].append(response.content) # appending LLM call response to the AgentState\n",
    "    \n",
    "    #print(AgentState)\n",
    "    \n",
    "    return AgentState\n"
   ]
  },
  {
   "cell_type": "code",
   "execution_count": 14,
   "metadata": {},
   "outputs": [
    {
     "data": {
      "text/plain": [
       "{'messages': ['What is the tallest mountain?', 'Mount Everest. \\n']}"
      ]
     },
     "execution_count": 14,
     "metadata": {},
     "output_type": "execute_result"
    }
   ],
   "source": [
    "present_agent_state={\"messages\":[]}\n",
    "\n",
    "question=\"What is the tallest mountain?\"\n",
    "present_agent_state[\"messages\"].append(question)\n",
    "\n",
    "new_agent_state=question_answer(present_agent_state)\n",
    "new_agent_state"
   ]
  },
  {
   "cell_type": "code",
   "execution_count": 15,
   "metadata": {},
   "outputs": [],
   "source": [
    "\n",
    "from typing import TypedDict, Annotated, Sequence\n",
    "import operator\n",
    "from langchain_core.messages import BaseMessage\n",
    "from langchain.prompts import PromptTemplate"
   ]
  },
  {
   "cell_type": "code",
   "execution_count": 16,
   "metadata": {},
   "outputs": [],
   "source": [
    "class AgentState(TypedDict):\n",
    "    messages: Annotated[Sequence[BaseMessage],operator.add]"
   ]
  },
  {
   "cell_type": "code",
   "execution_count": null,
   "metadata": {},
   "outputs": [],
   "source": [
    "from pydantic import BaseModel, Field\n",
    "from langchain.output_parsers import PydanticOutputParser\n",
    "\n",
    "class TopicSelectorParser(BaseModel):\n",
    "    topic: str= Field(description='Selected Topic')\n",
    "    reasoning: str= Field(description=\"Reasoning behind topic selection\")\n",
    "\n",
    "\n",
    "parser = PydanticOutputParser(pydantic_object=TopicSelectorParser)\n"
   ]
  },
  {
   "cell_type": "code",
   "execution_count": 18,
   "metadata": {},
   "outputs": [],
   "source": [
    "from pydantic import BaseModel, Field\n",
    "class TopicSelectorParser(BaseModel):\n",
    "    topic: str= Field(description='Selected Topic')\n",
    "    reasoning: str= Field(description=\"Reasoning behind topic selection\")\n",
    "\n",
    "\n",
    "from langchain.output_parsers import PydanticOutputParser\n",
    "parser = PydanticOutputParser(pydantic_object=TopicSelectorParser)\n",
    "\n",
    "def categorize_user_question(AgentState: dict):\n",
    "    message=AgentState[\"messages\"]\n",
    "    question=message[-1]\n",
    "    print(question)\n",
    "    \n",
    "    template=\"\"\"\n",
    "    Your task is to classify the given user query into one of the following categories: [India, Not Related]. \n",
    "    Only respond with the category name and nothing else.\n",
    "\n",
    "    User query: {question}\n",
    "    {format_instructions}\n",
    "    \"\"\"\n",
    "    \n",
    "    prompt = PromptTemplate(template=template,\n",
    "                                    input_variables=[question],\n",
    "                                    partial_variables={\n",
    "                                        \"format_instructions\" : parser.get_format_instructions()                                    }\n",
    "                                    )\n",
    "    chain =  prompt | llm | parser\n",
    "    \n",
    "    response = chain.invoke({\"question\":question,\"format_instructions\" : parser.get_format_instructions() })\n",
    "\n",
    "    print(response)\n",
    "\n",
    "    return {\"messages\": [response.topic]}"
   ]
  },
  {
   "cell_type": "code",
   "execution_count": 19,
   "metadata": {},
   "outputs": [],
   "source": [
    "class AgentState(TypedDict):\n",
    "    problem: str\n",
    "    research: str\n",
    "    solution: str\n",
    "    iterations: str\n",
    "\n",
    "def researcher(state: AgentState) -> AgentState:\n",
    "    research = llm.invoke(f\"Research this problem: {state['problem']}\")\n",
    "    return {\"research\": research.content}\n",
    "\n",
    "def solver(state: AgentState) -> AgentState:\n",
    "    solution = llm.invoke(f\"Given the research: {state['research']}, solve this problem: {state['problem']}\")\n",
    "    return {\"solution\": solution.content,\"iteration\":state.get(\"iterations\",0)+1}\n",
    "\n",
    "\n",
    "def should_continue(state: AgentState) -> str:\n",
    "    if state.get(\"iterations\",0) <3 and len(state.get(\"solution\",\"\"))<100:\n",
    "        return \"researcher\"\n",
    "    else:\n",
    "        return END\n",
    "\n"
   ]
  },
  {
   "cell_type": "code",
   "execution_count": 24,
   "metadata": {},
   "outputs": [
    {
     "data": {
      "image/png": "[encoded data removed]",
      "text/plain": [
       "<IPython.core.display.Image object>"
      ]
     },
     "metadata": {},
     "output_type": "display_data"
    }
   ],
   "source": [
    "graph_builder= StateGraph(AgentState)\n",
    "\n",
    "graph_builder.add_node(\"researcher\",researcher)\n",
    "graph_builder.add_node(\"solver\",solver)\n",
    "\n",
    "graph_builder.set_entry_point(\"researcher\")\n",
    "\n",
    "\n",
    "graph_builder.add_edge(\"researcher\",\"solver\")\n",
    "\n",
    "\n",
    "graph_builder.add_conditional_edges(\n",
    "    \"solver\",\n",
    "    should_continue,\n",
    "    path_map=[\n",
    "        \"researcher\",\n",
    "        \"__end__\"\n",
    "    ]\n",
    "        )\n",
    "\n",
    "graph=graph_builder.compile()\n",
    "try:\n",
    "    display(Image(graph.get_graph().draw_mermaid_png()))\n",
    "except Exception:\n",
    "    pass"
   ]
  },
  {
   "cell_type": "code",
   "execution_count": 25,
   "metadata": {},
   "outputs": [
    {
     "name": "stdout",
     "output_type": "stream",
     "text": [
      "This research breakdown already provides a fantastic answer to your question! \n",
      "\n",
      "Here's a summarized approach to optimizing a neural network based on the information given:\n",
      "\n",
      "**1. Define Your Goal:**\n",
      "\n",
      "* What task are you trying to achieve? (e.g., image classification, text generation, prediction)\n",
      "* This determines the type of loss function you'll use.\n",
      "\n",
      "**2. Choose Your Tools:**\n",
      "\n",
      "* **Framework:** Select a deep learning library like TensorFlow, Keras, or PyTorch.\n",
      "* **Hardware:** Consider using a GPU for faster training.\n",
      "\n",
      "**3. Design Your Network Architecture:**\n",
      "\n",
      "* Number of layers, types of layers (e.g., convolutional, recurrent), activation functions.\n",
      "* This is often an iterative process based on experimentation and evaluation.\n",
      "\n",
      "**4. Select a Loss Function:**\n",
      "\n",
      "* **Regression:** Mean Squared Error (MSE)\n",
      "* **Classification:** Cross-Entropy Loss\n",
      "* Other options exist depending on your task.\n",
      "\n",
      "**5. Pick an Optimization Algorithm:**\n",
      "\n",
      "* **Gradient Descent Variants:**\n",
      "    * **Batch Gradient Descent:** Uses the whole dataset, can be slow.\n",
      "    * **Stochastic Gradient Descent (SGD):** Uses single data points, faster but noisier.\n",
      "    * **Mini-Batch Gradient Descent:**  A balance between the two.\n",
      "* **Momentum:** Helps overcome local minima.\n",
      "* **Adaptive Learning Rate Algorithms:** Adam is often a good starting point.\n",
      "\n",
      "**6. Set the Learning Rate:**\n",
      "\n",
      "*  Experiment with different values or use learning rate schedulers.\n",
      "\n",
      "**7. Implement Regularization:**\n",
      "\n",
      "* **L1/L2:** Add penalties to weights to prevent overfitting.\n",
      "* **Dropout:** Randomly disable neurons during training.\n",
      "\n",
      "**8. Tune Hyperparameters:**\n",
      "\n",
      "* Grid search, random search, or Bayesian optimization can help find the best settings.\n",
      "\n",
      "**9. Train and Evaluate:**\n",
      "\n",
      "* Split your data into training, validation, and test sets.\n",
      "* Monitor performance on the validation set and use early stopping to prevent overfitting.\n",
      "\n",
      "**10. Analyze and Iterate:**\n",
      "\n",
      "* Examine the model's performance, identify areas for improvement, and repeat the process.\n",
      "\n",
      "\n",
      "\n",
      "\n",
      "Remember, neural network optimization is an iterative process that involves careful experimentation and analysis.  \n",
      "\n"
     ]
    }
   ],
   "source": [
    "result = graph.invoke({\"problem\": \"How to optimize a neural network?\"})\n",
    "print(result[\"solution\"])"
   ]
  },
  {
   "cell_type": "code",
   "execution_count": 26,
   "metadata": {},
   "outputs": [
    {
     "data": {
      "text/plain": [
       "{'problem': 'How to optimize a neural network?',\n",
       " 'research': '## Optimizing a Neural Network: A Deep Dive\\n\\nOptimizing a neural network is crucial for achieving high performance. It involves finding the best set of weights and biases that minimize the difference between the network\\'s predictions and the actual target values. \\n\\nHere\\'s a breakdown of key aspects involved in neural network optimization:\\n\\n**1. Loss Function:**\\n\\n* **Purpose:** Measures the error between the network\\'s output and the desired output.\\n* **Types:** \\n    * **Mean Squared Error (MSE):** Common for regression tasks.\\n    * **Cross-Entropy Loss:**  Common for classification tasks.\\n    * **Hinge Loss:**  Used in Support Vector Machines.\\n* **Selection:** Choose a loss function appropriate for your task.\\n\\n**2. Optimization Algorithm:**\\n\\n* **Purpose:**  Updates the network\\'s weights and biases iteratively to minimize the loss function.\\n* **Popular Algorithms:**\\n    * **Gradient Descent:**  Basic algorithm that iteratively moves weights in the direction of the negative gradient of the loss function.\\n        * **Batch Gradient Descent:**  Uses the entire training dataset to compute the gradient.\\n        * **Stochastic Gradient Descent (SGD):**  Uses a single data point or a small batch of data points to compute the gradient.\\n        * **Mini-Batch Gradient Descent:**  A compromise between Batch and Stochastic Gradient Descent, using small batches of data.\\n    * **Momentum:**  Adds a \"momentum\" term to the weight update, helping to accelerate convergence and overcome local minima.\\n    * **Adagrad:**  Adapts the learning rate for each weight based on its historical gradients.\\n    * **RMSprop:**  Similar to Adagrad but uses a moving average of squared gradients.\\n    * **Adam:**  Combines momentum and RMSprop, often a good default choice.\\n* **Selection:**  The choice depends on the dataset size, complexity, and desired convergence speed.\\n\\n**3. Learning Rate:**\\n\\n* **Purpose:** Controls the step size taken during weight updates.\\n* **Tuning:** \\n    * Too small:  Slow convergence.\\n    * Too large:  May overshoot the minimum and diverge.\\n* **Techniques:**\\n    * **Manual Tuning:**  Experiment with different values.\\n    * **Learning Rate Schedulers:**  Gradually decrease the learning rate over time.\\n    * **Adaptive Learning Rate Algorithms:**  Automatically adjust the learning rate based on the training progress (e.g., Adam).\\n\\n**4. Regularization:**\\n\\n* **Purpose:**  Prevents overfitting (model memorizing the training data).\\n* **Techniques:**\\n    * **L1 Regularization (Lasso):** Adds a penalty to the sum of absolute values of weights.\\n    * **L2 Regularization (Ridge):** Adds a penalty to the sum of squared values of weights.\\n    * **Dropout:** Randomly sets some neurons to 0 during training, forcing the network to learn more robust features.\\n* **Selection:**  Choose based on the dataset size and complexity.\\n\\n**5. Hyperparameter Tuning:**\\n\\n* **Definition:**  Parameters that are not learned during training but need to be set beforehand.\\n* **Examples:** Learning rate, batch size, number of layers, activation functions.\\n* **Techniques:**\\n    * **Grid Search:**  Systematically tries all possible combinations of hyperparameters.\\n    * **Random Search:**  Randomly samples hyperparameter combinations.\\n    * **Bayesian Optimization:**  Uses a probabilistic model to guide the search for optimal hyperparameters.\\n\\n**6. Evaluation and Monitoring:**\\n\\n* **Metrics:**  Use appropriate metrics to evaluate the model\\'s performance (e.g., accuracy, precision, recall, F1-score).\\n* **Validation Set:**  Split the data into training, validation, and test sets. Monitor performance on the validation set to avoid overfitting.\\n* **Early Stopping:**  Stop training if the validation performance plateaus or starts to decrease.\\n\\n\\n**Tools and Libraries:**\\n\\n* **TensorFlow:** A popular open-source library for deep learning.\\n* **Keras:** A high-level API built on top of TensorFlow.\\n* **PyTorch:** Another popular open-source library for deep learning.\\n* **Scikit-learn:** A library for traditional machine learning algorithms, also includes tools for hyperparameter tuning.\\n\\n\\n\\nBy carefully considering these aspects and utilizing the available tools, you can effectively optimize your neural network and achieve state-of-the-art performance on your target task.\\n',\n",
       " 'solution': \"This research breakdown already provides a fantastic answer to your question! \\n\\nHere's a summarized approach to optimizing a neural network based on the information given:\\n\\n**1. Define Your Goal:**\\n\\n* What task are you trying to achieve? (e.g., image classification, text generation, prediction)\\n* This determines the type of loss function you'll use.\\n\\n**2. Choose Your Tools:**\\n\\n* **Framework:** Select a deep learning library like TensorFlow, Keras, or PyTorch.\\n* **Hardware:** Consider using a GPU for faster training.\\n\\n**3. Design Your Network Architecture:**\\n\\n* Number of layers, types of layers (e.g., convolutional, recurrent), activation functions.\\n* This is often an iterative process based on experimentation and evaluation.\\n\\n**4. Select a Loss Function:**\\n\\n* **Regression:** Mean Squared Error (MSE)\\n* **Classification:** Cross-Entropy Loss\\n* Other options exist depending on your task.\\n\\n**5. Pick an Optimization Algorithm:**\\n\\n* **Gradient Descent Variants:**\\n    * **Batch Gradient Descent:** Uses the whole dataset, can be slow.\\n    * **Stochastic Gradient Descent (SGD):** Uses single data points, faster but noisier.\\n    * **Mini-Batch Gradient Descent:**  A balance between the two.\\n* **Momentum:** Helps overcome local minima.\\n* **Adaptive Learning Rate Algorithms:** Adam is often a good starting point.\\n\\n**6. Set the Learning Rate:**\\n\\n*  Experiment with different values or use learning rate schedulers.\\n\\n**7. Implement Regularization:**\\n\\n* **L1/L2:** Add penalties to weights to prevent overfitting.\\n* **Dropout:** Randomly disable neurons during training.\\n\\n**8. Tune Hyperparameters:**\\n\\n* Grid search, random search, or Bayesian optimization can help find the best settings.\\n\\n**9. Train and Evaluate:**\\n\\n* Split your data into training, validation, and test sets.\\n* Monitor performance on the validation set and use early stopping to prevent overfitting.\\n\\n**10. Analyze and Iterate:**\\n\\n* Examine the model's performance, identify areas for improvement, and repeat the process.\\n\\n\\n\\n\\nRemember, neural network optimization is an iterative process that involves careful experimentation and analysis.  \\n\"}"
      ]
     },
     "execution_count": 26,
     "metadata": {},
     "output_type": "execute_result"
    }
   ],
   "source": [
    "result"
   ]
  },
  {
   "cell_type": "markdown",
   "metadata": {},
   "source": [
    "# Debate Langgraph"
   ]
  },
  {
   "cell_type": "code",
   "execution_count": 52,
   "metadata": {},
   "outputs": [],
   "source": [
    "from typing import TypedDict, List, Dict\n",
    "from pydantic import BaseModel, Field\n",
    "from typing import Literal\n",
    "from pydantic import BaseModel, Field\n",
    "from langchain.output_parsers import PydanticOutputParser\n",
    "from langchain_groq import ChatGroq\n",
    "from langchain.prompts import PromptTemplate\n",
    "\n",
    "\n",
    "llm = ChatGoogleGenerativeAI(model=\"gemini-1.5-flash\",temperature=0.9)\n",
    "llm2=ChatGroq(model_name=\"llama-3.3-70b-versatile\",temperature=0.9)\n",
    "\n",
    "class WinnerIdentification(BaseModel):\n",
    "    winner: Literal[\"A\",\"B\"]\n",
    "\n",
    "winner_parser = PydanticOutputParser(pydantic_object=WinnerIdentification)\n",
    "\n",
    "class DebateState(TypedDict):\n",
    "    topic: str\n",
    "    perspective_a: List[str]\n",
    "    perspective_b: List[str]\n",
    "    moderator_summaries: List[str]\n",
    "    winner_list: List[str]\n",
    "    next_turn: str\n",
    "    turns_completed: int\n",
    "    final_synthesis: str\n",
    "\n",
    "\n",
    "def advocate_a(state: DebateState) ->DebateState:\n",
    "    argument=llm.invoke(f\" You are an expert debate strategist skilled in constructing compelling arguments. \\\n",
    "        Argue strongly in favor of the following topic, using well-researched facts, logical reasoning, and persuasive rhetoric. \\\n",
    "        Anticipate counterarguments and effectively refute them. \\\n",
    "                        The topic is: {state['topic']}\\\n",
    "                        If the opponent has made a point, directly counter it with strong reasoning: \\\n",
    "                        Respond to previous point of opponent if any: {state.get('perspective_b', [])[-1] if state.get('perspective_b') else ''}\\\n",
    "                            \\\n",
    "                            Keep your response concise yet impactful.\")\n",
    "    \n",
    "    current_args_a=state.get(\"perspective_a\",[])\n",
    "    current_args_a.append(argument.content)\n",
    "    print(\"A: Argument \",str(argument.content).replace(\"\\n\",\" \").strip())\n",
    "    return {\"perspective_a\": current_args_a,\"next_turn\":\"b\"}\n",
    "\n",
    "def advocate_b(state: DebateState) ->DebateState:\n",
    "    argument=llm2.invoke(f\"You are a master debate strategist known for constructing compelling counterarguments.  \\\n",
    "        Argue powerfully **against** the following topic, using **strong evidence, logical reasoning, and factual support** to dismantle the opposing viewpoint.  \\\n",
    "        Ensure your argument is structured, persuasive, and difficult to refute. \\\n",
    "                        The topic is: {state['topic']}\\\n",
    "                        **Refute the opponent's latest point if available:** \\\n",
    "                        Respond to previous point of opponent if any: {state.get('perspective_b', [])[-1] if state.get('perspective_b') else ''}\\\n",
    "                            Make your response concise yet impactful.\\\n",
    "                                \")\n",
    "    \n",
    "    current_args_b=state.get(\"perspective_b\",[])\n",
    "    current_args_b.append(argument.content)\n",
    "\n",
    "    print(\"B: Argument\",str(argument.content).replace(\"\\n\",\" \").strip())\n",
    "    return {\"perspective_b\": current_args_b,\"next_turn\":\"a\"}\n",
    "\n",
    "def moderator(state: DebateState):\n",
    "    try:\n",
    "\n",
    "        summary = llm.invoke(f\"As a neutral moderator, summarize the current state of this debate on {state['topic']}:\\n\"\n",
    "                            f\"Perspective A: {state['perspective_a'][-1] if state['perspective_a'] else ''}\\n\"\n",
    "                            f\"Perspective B: {state['perspective_b'][-1] if state['perspective_b'] else ''}\")\n",
    "        current_summaries = state.get(\"moderator_summaries\", [])\n",
    "        current_summaries.append(summary.content)\n",
    "        return {\n",
    "            \"moderator_summaries\": current_summaries, \"turns_completed\": state.get(\"turns_completed\",0)+1\n",
    "        }\n",
    "    except Exception as e:\n",
    "        print(e)\n",
    "        return {\"round_success\":\"__end__\"}\n",
    "\n",
    "def winner_of_round(state: DebateState)-> DebateState:\n",
    "    template = \"\"\"\n",
    "    You are an impartial judge tasked with determining the winner of a debate round. \n",
    "\n",
    "    Follow these steps:\n",
    "    1. Carefully analyze the topic, Argument A, and Argument B.\n",
    "    2. Objectively assess the strength, logic, and relevance of each argument.\n",
    "    3. Decide the winner based solely on the merits of the arguments presented.\n",
    "\n",
    "    Details:\n",
    "    - Topic: {topic}\n",
    "    - Argument A, A is speaking in favour of topic: {perspective_a}\n",
    "    - Argument B, B is speaking against the topic: {perspective_b}\n",
    "\n",
    "    {format_instructions}\n",
    "\n",
    "    Please return only a dictionary with a single key `winner` and a value that is either `\"A\"` or `\"B\"`. No additional text or explanations.\n",
    "    \"\"\"\n",
    "    \n",
    "    prompt = PromptTemplate(template=template,\n",
    "                                    input_variables=[\"topic\",\"perspective_a\",\"perspective_b\"],\n",
    "                                    partial_variables={\n",
    "                                        \"format_instructions\" : winner_parser.get_format_instructions()\n",
    "                                        }\n",
    "                                    )\n",
    "    chain =  prompt | llm | winner_parser\n",
    "    query={\n",
    "    \"topic\":state[\"topic\"],\n",
    "    \"perspective_a\":state[\"perspective_a\"][-1],\n",
    "    \"perspective_b\":state[\"perspective_b\"][-1]\n",
    "    }\n",
    "    winner=chain.invoke(query)\n",
    "    print(f\"Round Winner: {winner.winner}\\n\")\n",
    "    winner_list= state.get(\"winner_list\",[])\n",
    "    winner_list.append(str(winner.winner))\n",
    "    return {\"winner_list\":winner_list}\n",
    "\n",
    "    \n",
    "def synthesize_debate(state: DebateState) -> DebateState:\n",
    "    synthesis = llm.invoke(f\"Synthesize this entire debate on {state['topic']}:\\n\"\n",
    "                          f\"Perspective A arguments: {state['perspective_a']}\\n\"\n",
    "                          f\"Perspective B arguments: {state['perspective_b']}\\n\"\n",
    "                          f\"Moderator summaries: {state['moderator_summaries']}\\n\\n\"\n",
    "                          f\"Provide a balanced view that acknowledges the strengths of both perspectives.\")\n",
    "    return {\"final_synthesis\": synthesis.content}\n",
    "    \n",
    "\n",
    "\n",
    "def debate_router(state: DebateState):\n",
    "    if state.get(\"turns_completed\",0) <3:\n",
    "        return state[\"next_turn\"]\n",
    "    else:\n",
    "        return \"synthesize\"\n",
    "\n",
    "\n",
    "def error_occured(state: DebateState):\n",
    "    return END\n"
   ]
  },
  {
   "cell_type": "code",
   "execution_count": 49,
   "metadata": {},
   "outputs": [],
   "source": [
    "from langgraph.graph import StateGraph, END\n",
    "\n",
    "# Ensure all necessary functions like advocate_a, advocate_b, etc., are defined properly\n",
    "# Make sure you have all the required functions implemented (like advocate_a, moderator, etc.)\n",
    "\n",
    "graph_builder = StateGraph(DebateState)\n",
    "\n",
    "# Add nodes for each role or task\n",
    "graph_builder.add_node(\"a\", advocate_a)\n",
    "graph_builder.add_node(\"b\", advocate_b)\n",
    "graph_builder.add_node(\"moderator\", moderator)\n",
    "graph_builder.add_node(\"synthesize\", synthesize_debate)\n",
    "graph_builder.add_node(\"round_winner\", winner_of_round)\n",
    "graph_builder.add_node(\"error_occured\", error_occured)\n",
    "\n",
    "# Safe lambda functions for conditional edges\n",
    "graph_builder.add_conditional_edges(\"a\", lambda state: state.get(\"success\", True), {\n",
    "    True: \"b\",\n",
    "    False: \"error_occured\"\n",
    "})\n",
    "\n",
    "graph_builder.add_conditional_edges(\"b\", lambda state: state.get(\"success\", True), {\n",
    "    True: \"round_winner\",\n",
    "    False: \"error_occured\"  # Optional fallback if current_turn is invalid\n",
    "})\n",
    "\n",
    "graph_builder.add_conditional_edges(\"round_winner\", lambda state: state.get(\"round_success\", True), {\n",
    "    False: \"error_occured\",\n",
    "    True: \"moderator\"\n",
    "})\n",
    "\n",
    "graph_builder.add_conditional_edges(\"moderator\", debate_router, {\n",
    "    \"a\": \"a\",  # Return to advocate A if current turn is 'a'\n",
    "    \"synthesize\": \"synthesize\",  # Transition to synthesis step\n",
    "})\n",
    "\n",
    "# graph_builder.add_edge(\"a\",\"b\")\n",
    "# graph_builder.add_edge(\"b\",\"round_winner\")\n",
    "graph_builder.add_edge(\"error_occured\",END)\n",
    "\n",
    "# graph_builder.add_edge()\n",
    "\n",
    "# Final edge from 'synthesize' node to END\n",
    "graph_builder.add_edge(\"synthesize\", END)\n",
    "\n",
    "# Set the entry point to \"a\"\n",
    "graph_builder.set_entry_point(\"a\")\n",
    "\n",
    "# Compile the graph\n",
    "app = graph_builder.compile()\n",
    "\n",
    "try:\n",
    "    display(Image(app.get_graph().draw_mermaid_png()))\n",
    "except Exception:\n",
    "    pass\n"
   ]
  },
  {
   "cell_type": "code",
   "execution_count": 50,
   "metadata": {},
   "outputs": [
    {
     "data": {
      "text/plain": [
       "Graph(nodes={'__start__': Node(id='__start__', name='__start__', data=<class 'langchain_core.utils.pydantic.LangGraphInput'>, metadata=None), 'a': Node(id='a', name='a', data=a(tags=None, recurse=True, explode_args=False, func_accepts_config=False, func_accepts={}), metadata=None), 'b': Node(id='b', name='b', data=b(tags=None, recurse=True, explode_args=False, func_accepts_config=False, func_accepts={}), metadata=None), 'moderator': Node(id='moderator', name='moderator', data=moderator(tags=None, recurse=True, explode_args=False, func_accepts_config=False, func_accepts={}), metadata=None), 'synthesize': Node(id='synthesize', name='synthesize', data=synthesize(tags=None, recurse=True, explode_args=False, func_accepts_config=False, func_accepts={}), metadata=None), 'round_winner': Node(id='round_winner', name='round_winner', data=round_winner(tags=None, recurse=True, explode_args=False, func_accepts_config=False, func_accepts={}), metadata=None), 'error_occured': Node(id='error_occured', name='error_occured', data=error_occured(tags=None, recurse=True, explode_args=False, func_accepts_config=False, func_accepts={}), metadata=None), '__end__': Node(id='__end__', name='__end__', data=<class 'langchain_core.utils.pydantic.LangGraphOutput'>, metadata=None)}, edges=[Edge(source='__start__', target='a', data=None, conditional=False), Edge(source='error_occured', target='__end__', data=None, conditional=False), Edge(source='synthesize', target='__end__', data=None, conditional=False), Edge(source='a', target='b', data='True', conditional=True), Edge(source='a', target='error_occured', data='False', conditional=True), Edge(source='b', target='round_winner', data='True', conditional=True), Edge(source='b', target='error_occured', data='False', conditional=True), Edge(source='round_winner', target='error_occured', data='False', conditional=True), Edge(source='round_winner', target='moderator', data='True', conditional=True), Edge(source='moderator', target='a', data=None, conditional=True), Edge(source='moderator', target='synthesize', data=None, conditional=True)])"
      ]
     },
     "execution_count": 50,
     "metadata": {},
     "output_type": "execute_result"
    }
   ],
   "source": [
    "app.get_graph()"
   ]
  },
  {
   "cell_type": "code",
   "execution_count": 51,
   "metadata": {},
   "outputs": [
    {
     "name": "stdout",
     "output_type": "stream",
     "text": [
      "A: Argument  Capitalism, despite its flaws, demonstrably outperforms socialism in generating wealth and improving living standards.  The empirical evidence is overwhelming.  Countries embracing free markets consistently exhibit higher GDP per capita, lower poverty rates, and greater technological innovation than their socialist counterparts.  South Korea's dramatic economic ascent, contrasted with North Korea's stagnation, serves as a stark illustration.  This isn't mere correlation; it's a causal relationship driven by capitalism's inherent incentives.  **Counterargument 1:** *Socialism prioritizes equality over efficiency.*  While equality is a laudable goal,  socialist systems often achieve it through inefficient resource allocation and stifled innovation.  Central planning struggles to match the dynamism of market-driven competition, leading to shortages, surpluses, and a lack of responsiveness to consumer demand.  The historical failures of centrally planned economies in the Soviet Union and Eastern Europe bear this out.  Furthermore,  \"equality\" in socialist systems often translates to a leveling down, rather than a leveling up, limiting individual potential and overall societal prosperity.  **Counterargument 2:** *Capitalism leads to inequality.*  Inequality exists under capitalism, but it's a vastly different inequality than that found under socialism.  Capitalist inequality is largely driven by merit, effort, and innovation, offering opportunities for upward mobility.  Social mobility, while imperfect, is significantly higher in capitalist societies than in socialist ones.  Moreover, the wealth generated by capitalism allows for robust social safety nets and charitable initiatives that mitigate inequality's negative consequences, something far less achievable under resource-constrained socialist systems.  **Counterargument 3:** *Capitalism exploits workers.*  While worker exploitation is a legitimate concern, it's a problem of regulation and enforcement, not an inherent flaw of capitalism.  Strong labor laws, worker protections, and robust regulatory frameworks can effectively address exploitation without abandoning the market's efficiency-generating mechanisms.  History shows that unregulated capitalism can lead to abuses, but a well-regulated capitalist system can mitigate these risks while preserving the system's inherent advantages.  In conclusion, while capitalism isn't a perfect system, its capacity for wealth creation, innovation, and – with appropriate regulation – social progress far surpasses that of socialism.  The historical record and economic theory overwhelmingly support this assertion.  The choice isn't between a perfect system and an imperfect one; it's between a system that demonstrably improves lives and one that consistently fails to deliver on its promises.\n",
      "B: Argument **Counterargument:**  While proponents of capitalism argue that it fosters innovation, efficiency, and economic growth, I strongly disagree that it is better than socialism. In fact, unregulated capitalism has led to severe income inequality, environmental degradation, and social injustices.  **Evidence:**  1. **Income Inequality:** The United States, a bastion of capitalism, has one of the highest levels of income inequality among developed nations. According to the Economic Policy Institute, the top 1% of earners in the US hold over 40% of the country's wealth, while the bottom 90% hold just 27%. This stark contrast is a direct result of capitalist policies that prioritize profit over people. 2. **Environmental Degradation:** The pursuit of profit in capitalist systems often leads to environmental exploitation. The World Health Organization estimates that pollution, largely driven by capitalist industries, is responsible for 9 million premature deaths annually. Socialist systems, on the other hand, prioritize environmental sustainability and social welfare. 3. **Social Injustices:** Capitalist systems often perpetuate social injustices, such as lack of access to healthcare, education, and basic human rights. In contrast, socialist systems prioritize social welfare and provide essential services to all citizens, regardless of economic status.  **Logical Reasoning:**  1. **Market Failures:** Capitalist systems are prone to market failures, such as monopolies, oligopolies, and externalities. These failures lead to inefficiencies and social problems, which socialist systems can mitigate through regulation and social ownership. 2. **Human Well-being:** Socialist systems prioritize human well-being over profit, recognizing that economic growth is not an end in itself, but a means to improve the lives of citizens. By prioritizing social welfare, socialist systems can achieve greater human development and happiness.  **Factual Support:**  1. **Nordic Countries:** Countries like Norway, Sweden, and Denmark, which have socialist elements in their economic systems, consistently rank high in human development indices, such as the Human Development Index (HDI) and the World Happiness Report. 2. **Costa Rica:** Costa Rica, a country with a mixed economy that incorporates socialist elements, has achieved remarkable success in environmental sustainability, social welfare, and human development, despite having a relatively small economy.  **Refutation of Opponent's Point:**  If the opponent argues that capitalism is more efficient and innovative, I would counter that while capitalism may drive innovation in certain sectors, it often does so at the expense of social welfare and environmental sustainability. Furthermore, socialist systems can also foster innovation, as seen in countries like China, which has made significant strides in technological advancements while maintaining a socialist economic system.  In conclusion, while capitalism has its advantages, it is not better than socialism. Socialist systems prioritize human well-being, social welfare, and environmental sustainability, leading to more equitable and just societies. The evidence and logical reasoning presented demonstrate that socialism is a more desirable economic system than capitalism.\n",
      "Round Winner: A\n",
      "\n",
      "A: Argument  The opponent's argument rests on a flawed premise: that unregulated capitalism is the only form of capitalism.  Their examples of inequality and environmental damage are consequences of *unfettered* capitalism, not inherent to the system itself.  A well-regulated capitalist system, incorporating robust social safety nets and environmental protections, can mitigate these negative externalities while retaining the dynamism and innovation that drive economic growth.  Their claim that socialist systems inherently prioritize environmental sustainability is demonstrably false.  The environmental record of the former Soviet Union, for example, stands as a stark counterpoint.  Furthermore, the \"socialist\" Nordic countries cited are actually mixed economies with strong market components. Their success stems not from pure socialism, but from a judicious blend of market efficiency and social welfare programs funded by robust tax systems – a system achievable within a capitalist framework.  The opponent's assertion that capitalism leads to market failures ignores the fact that these failures are addressed through regulation – a key component of successful capitalist economies.  Monopolies are countered by antitrust laws, externalities are mitigated through carbon taxes or cap-and-trade systems, and social safety nets alleviate income inequality.  These regulatory mechanisms are not antithetical to capitalism; they are essential for its responsible functioning.  Finally, the argument that socialist systems prioritize human well-being over profit is a misleading oversimplification.  Profit, in a capitalist system, is the engine of innovation and economic growth, which ultimately benefits society.  Socialist systems, while aiming for well-being, often struggle with economic efficiency and innovation due to a lack of market incentives.  The success of the Nordic model, again, highlights the effectiveness of a balanced approach, not pure socialism.  In short, the opponent's argument conflates the failures of unregulated capitalism with the inherent nature of the system itself, ignoring the potential for a more equitable and sustainable capitalist model.\n",
      "B: Argument **Counterargument:**  While the opponent presents a compelling case against capitalism, I strongly disagree that socialism is a superior economic system. In fact, socialist systems often suffer from inefficiencies, lack of innovation, and limited individual freedoms.  **Rebuttal to Opponent's Evidence:**  1. **Income Inequality:** The opponent cites the United States as an example of capitalist-driven income inequality. However, this ignores the fact that many socialist countries, such as Venezuela and Cuba, have equally stark income disparities. In fact, according to the World Bank, Venezuela's Gini coefficient, a measure of income inequality, is higher than that of the United States. 2. **Environmental Degradation:** The opponent argues that socialist systems prioritize environmental sustainability, but this is not universally true. For example, the former Soviet Union's socialist system was notorious for its environmental degradation, with the Chernobyl disaster being a prime example. 3. **Social Injustices:** The opponent claims that socialist systems provide essential services to all citizens, but this often comes at the cost of individual freedoms and creativity. In socialist systems, the government often controls the means of production, leading to a lack of innovation and entrepreneurship.  **Logical Reasoning:**  1. **Incentivization:** Capitalist systems provide incentives for innovation and hard work, as individuals are rewarded for their efforts. Socialist systems, on the other hand, often rely on government control and redistribution, which can stifle innovation and creativity. 2. **Economic Growth:** Capitalist systems have consistently demonstrated higher economic growth rates than socialist systems. According to the World Bank, the average annual GDP growth rate for capitalist countries is 2.5%, compared to 1.5% for socialist countries.  **Factual Support:**  1. **South Korea vs. North Korea:** The comparison between South Korea, a capitalist country, and North Korea, a socialist country, is a stark example of the differences in economic growth and human development. South Korea has experienced rapid economic growth and become one of the most developed countries in the world, while North Korea remains one of the poorest. 2. **China's Economic Miracle:** China's economic growth, often cited as an example of socialist success, is actually a result of the country's shift towards a more capitalist economy. China's economic reforms, which introduced market-oriented policies and encouraged foreign investment, have driven the country's rapid growth and development.  **Refutation of Opponent's Logical Reasoning:**  The opponent argues that socialist systems prioritize human well-being over profit, but this ignores the fact that capitalist systems can also prioritize human well-being through corporate social responsibility and philanthropy. Furthermore, socialist systems often rely on government control, which can lead to inefficiencies and corruption.  In conclusion, while socialism has its advantages, it is not superior to capitalism. Capitalist systems provide incentives for innovation, drive economic growth, and protect individual freedoms, making them a more desirable economic system than socialism.\n",
      "Round Winner: A\n",
      "\n",
      "A: Argument  The opponent's arguments, while superficially appealing, crumble under scrutiny.  Their claim that capitalism inherently leads to unacceptable inequality ignores the vast differences in outcomes between capitalist nations.  The US, with its significant inequality, is an outlier, not the norm.  Many capitalist countries boast robust social safety nets and far less inequality than the US, demonstrating that capitalism's structure doesn't dictate its social outcomes.  Furthermore, citing Venezuela and Cuba as examples of socialist equality is disingenuous; their economic failures are precisely *because* of their socialist systems, not in spite of them.  The assertion that socialism prioritizes environmental sustainability is demonstrably false.  The Soviet Union's environmental record is a catastrophic example.  While some socialist ideals *aspire* to environmental protection, the reality is often hampered by inefficient resource allocation and a lack of accountability inherent in centrally planned economies.  Finally, the argument that socialism provides essential services ignores the crucial point of *how* those services are provided.  Socialist systems often achieve this through stifling individual initiative and innovation.  The lack of competition and profit motive leads to stagnation and a lower overall standard of living, even if basic services are nominally provided.  The stark contrast between South and North Korea, or the dramatic economic transformation of China after embracing market reforms, powerfully illustrates the superior dynamism and prosperity-generating capacity of capitalism.  Capitalism, while imperfect, provides the framework for innovation, efficiency, and ultimately, a higher standard of living for the majority.\n",
      "B: Argument **Counterargument:**  While the opponent presents a well-structured argument in favor of capitalism, I strongly disagree with their claims. The opponent's rebuttal to income inequality, environmental degradation, and social injustices is flawed, as it cherry-picks examples that support their narrative while ignoring the broader context.  **Rebuttal to Opponent's Rebuttal:**  1. **Income Inequality:** The opponent cites Venezuela and Cuba as examples of socialist countries with high income inequality, but this ignores the fact that these countries have been subject to severe economic sanctions and external pressures that have exacerbated their economic struggles. In contrast, countries like Norway and Sweden, which have socialist elements, have achieved low income inequality and high standards of living. 2. **Environmental Degradation:** The opponent's example of the former Soviet Union's environmental degradation is a red herring, as it ignores the fact that many capitalist countries, such as the United States, have also struggled with environmental degradation. In fact, a study by the Environmental Protection Agency found that the United States is one of the largest polluters in the world. 3. **Social Injustices:** The opponent claims that socialist systems stifle innovation and creativity, but this ignores the fact that many socialist countries have made significant advancements in fields like healthcare, education, and technology. For example, Costa Rica, a country with a strong socialist tradition, has achieved high levels of human development and environmental sustainability.  **Logical Reasoning:**  1. **Inequality and Instability:** Capitalist systems are inherently unstable and prone to boom-and-bust cycles, which can lead to widespread poverty and inequality. Socialist systems, on the other hand, prioritize human well-being and social welfare, providing a more stable and equitable foundation for economic growth. 2. **Democratization of Economy:** Socialist systems allow for greater democratization of the economy, as decision-making power is distributed among stakeholders rather than being controlled by a small elite. This leads to more equitable distribution of resources and a more just society.  **Factual Support:**  1. **Nordic Countries:** The Nordic countries, which have socialist elements, have achieved high levels of human development, low income inequality, and strong social safety nets. This challenges the opponent's claim that socialist systems are inherently inefficient and lacking in innovation. 2. **Cooperative Economies:** Cooperative economies, such as the Mondragon Corporation in Spain, have demonstrated that socialist principles can be applied successfully in a capitalist context, leading to high levels of employee ownership and social responsibility.  In conclusion, while capitalism has its advantages, it is not superior to socialism. Socialist systems prioritize human well-being, social welfare, and environmental sustainability, making them a more desirable economic system than capitalism. The opponent's arguments in favor of capitalism are based on flawed assumptions and cherry-picked examples, and their claims about the superiority of capitalism are not supported by the evidence.\n",
      "Round Winner: A\n",
      "\n"
     ]
    },
    {
     "data": {
      "text/plain": [
       "{'topic': 'capitalism better than socialism',\n",
       " 'perspective_a': ['Capitalism, despite its flaws, demonstrably outperforms socialism in generating wealth and improving living standards.  The empirical evidence is overwhelming.  Countries embracing free markets consistently exhibit higher GDP per capita, lower poverty rates, and greater technological innovation than their socialist counterparts.  South Korea\\'s dramatic economic ascent, contrasted with North Korea\\'s stagnation, serves as a stark illustration.  This isn\\'t mere correlation; it\\'s a causal relationship driven by capitalism\\'s inherent incentives.\\n\\n**Counterargument 1:** *Socialism prioritizes equality over efficiency.*  While equality is a laudable goal,  socialist systems often achieve it through inefficient resource allocation and stifled innovation.  Central planning struggles to match the dynamism of market-driven competition, leading to shortages, surpluses, and a lack of responsiveness to consumer demand.  The historical failures of centrally planned economies in the Soviet Union and Eastern Europe bear this out.  Furthermore,  \"equality\" in socialist systems often translates to a leveling down, rather than a leveling up, limiting individual potential and overall societal prosperity.\\n\\n**Counterargument 2:** *Capitalism leads to inequality.*  Inequality exists under capitalism, but it\\'s a vastly different inequality than that found under socialism.  Capitalist inequality is largely driven by merit, effort, and innovation, offering opportunities for upward mobility.  Social mobility, while imperfect, is significantly higher in capitalist societies than in socialist ones.  Moreover, the wealth generated by capitalism allows for robust social safety nets and charitable initiatives that mitigate inequality\\'s negative consequences, something far less achievable under resource-constrained socialist systems.\\n\\n**Counterargument 3:** *Capitalism exploits workers.*  While worker exploitation is a legitimate concern, it\\'s a problem of regulation and enforcement, not an inherent flaw of capitalism.  Strong labor laws, worker protections, and robust regulatory frameworks can effectively address exploitation without abandoning the market\\'s efficiency-generating mechanisms.  History shows that unregulated capitalism can lead to abuses, but a well-regulated capitalist system can mitigate these risks while preserving the system\\'s inherent advantages.\\n\\nIn conclusion, while capitalism isn\\'t a perfect system, its capacity for wealth creation, innovation, and – with appropriate regulation – social progress far surpasses that of socialism.  The historical record and economic theory overwhelmingly support this assertion.  The choice isn\\'t between a perfect system and an imperfect one; it\\'s between a system that demonstrably improves lives and one that consistently fails to deliver on its promises.',\n",
       "  'The opponent\\'s argument rests on a flawed premise: that unregulated capitalism is the only form of capitalism.  Their examples of inequality and environmental damage are consequences of *unfettered* capitalism, not inherent to the system itself.  A well-regulated capitalist system, incorporating robust social safety nets and environmental protections, can mitigate these negative externalities while retaining the dynamism and innovation that drive economic growth.\\n\\nTheir claim that socialist systems inherently prioritize environmental sustainability is demonstrably false.  The environmental record of the former Soviet Union, for example, stands as a stark counterpoint.  Furthermore, the \"socialist\" Nordic countries cited are actually mixed economies with strong market components. Their success stems not from pure socialism, but from a judicious blend of market efficiency and social welfare programs funded by robust tax systems – a system achievable within a capitalist framework.\\n\\nThe opponent\\'s assertion that capitalism leads to market failures ignores the fact that these failures are addressed through regulation – a key component of successful capitalist economies.  Monopolies are countered by antitrust laws, externalities are mitigated through carbon taxes or cap-and-trade systems, and social safety nets alleviate income inequality.  These regulatory mechanisms are not antithetical to capitalism; they are essential for its responsible functioning.\\n\\nFinally, the argument that socialist systems prioritize human well-being over profit is a misleading oversimplification.  Profit, in a capitalist system, is the engine of innovation and economic growth, which ultimately benefits society.  Socialist systems, while aiming for well-being, often struggle with economic efficiency and innovation due to a lack of market incentives.  The success of the Nordic model, again, highlights the effectiveness of a balanced approach, not pure socialism.  In short, the opponent\\'s argument conflates the failures of unregulated capitalism with the inherent nature of the system itself, ignoring the potential for a more equitable and sustainable capitalist model.',\n",
       "  \"The opponent's arguments, while superficially appealing, crumble under scrutiny.  Their claim that capitalism inherently leads to unacceptable inequality ignores the vast differences in outcomes between capitalist nations.  The US, with its significant inequality, is an outlier, not the norm.  Many capitalist countries boast robust social safety nets and far less inequality than the US, demonstrating that capitalism's structure doesn't dictate its social outcomes.  Furthermore, citing Venezuela and Cuba as examples of socialist equality is disingenuous; their economic failures are precisely *because* of their socialist systems, not in spite of them.\\n\\nThe assertion that socialism prioritizes environmental sustainability is demonstrably false.  The Soviet Union's environmental record is a catastrophic example.  While some socialist ideals *aspire* to environmental protection, the reality is often hampered by inefficient resource allocation and a lack of accountability inherent in centrally planned economies.\\n\\nFinally, the argument that socialism provides essential services ignores the crucial point of *how* those services are provided.  Socialist systems often achieve this through stifling individual initiative and innovation.  The lack of competition and profit motive leads to stagnation and a lower overall standard of living, even if basic services are nominally provided.  The stark contrast between South and North Korea, or the dramatic economic transformation of China after embracing market reforms, powerfully illustrates the superior dynamism and prosperity-generating capacity of capitalism.  Capitalism, while imperfect, provides the framework for innovation, efficiency, and ultimately, a higher standard of living for the majority.\"],\n",
       " 'perspective_b': [\"**Counterargument:**\\n\\nWhile proponents of capitalism argue that it fosters innovation, efficiency, and economic growth, I strongly disagree that it is better than socialism. In fact, unregulated capitalism has led to severe income inequality, environmental degradation, and social injustices.\\n\\n**Evidence:**\\n\\n1. **Income Inequality:** The United States, a bastion of capitalism, has one of the highest levels of income inequality among developed nations. According to the Economic Policy Institute, the top 1% of earners in the US hold over 40% of the country's wealth, while the bottom 90% hold just 27%. This stark contrast is a direct result of capitalist policies that prioritize profit over people.\\n2. **Environmental Degradation:** The pursuit of profit in capitalist systems often leads to environmental exploitation. The World Health Organization estimates that pollution, largely driven by capitalist industries, is responsible for 9 million premature deaths annually. Socialist systems, on the other hand, prioritize environmental sustainability and social welfare.\\n3. **Social Injustices:** Capitalist systems often perpetuate social injustices, such as lack of access to healthcare, education, and basic human rights. In contrast, socialist systems prioritize social welfare and provide essential services to all citizens, regardless of economic status.\\n\\n**Logical Reasoning:**\\n\\n1. **Market Failures:** Capitalist systems are prone to market failures, such as monopolies, oligopolies, and externalities. These failures lead to inefficiencies and social problems, which socialist systems can mitigate through regulation and social ownership.\\n2. **Human Well-being:** Socialist systems prioritize human well-being over profit, recognizing that economic growth is not an end in itself, but a means to improve the lives of citizens. By prioritizing social welfare, socialist systems can achieve greater human development and happiness.\\n\\n**Factual Support:**\\n\\n1. **Nordic Countries:** Countries like Norway, Sweden, and Denmark, which have socialist elements in their economic systems, consistently rank high in human development indices, such as the Human Development Index (HDI) and the World Happiness Report.\\n2. **Costa Rica:** Costa Rica, a country with a mixed economy that incorporates socialist elements, has achieved remarkable success in environmental sustainability, social welfare, and human development, despite having a relatively small economy.\\n\\n**Refutation of Opponent's Point:**\\n\\nIf the opponent argues that capitalism is more efficient and innovative, I would counter that while capitalism may drive innovation in certain sectors, it often does so at the expense of social welfare and environmental sustainability. Furthermore, socialist systems can also foster innovation, as seen in countries like China, which has made significant strides in technological advancements while maintaining a socialist economic system.\\n\\nIn conclusion, while capitalism has its advantages, it is not better than socialism. Socialist systems prioritize human well-being, social welfare, and environmental sustainability, leading to more equitable and just societies. The evidence and logical reasoning presented demonstrate that socialism is a more desirable economic system than capitalism.\",\n",
       "  \"**Counterargument:**\\n\\nWhile the opponent presents a compelling case against capitalism, I strongly disagree that socialism is a superior economic system. In fact, socialist systems often suffer from inefficiencies, lack of innovation, and limited individual freedoms.\\n\\n**Rebuttal to Opponent's Evidence:**\\n\\n1. **Income Inequality:** The opponent cites the United States as an example of capitalist-driven income inequality. However, this ignores the fact that many socialist countries, such as Venezuela and Cuba, have equally stark income disparities. In fact, according to the World Bank, Venezuela's Gini coefficient, a measure of income inequality, is higher than that of the United States.\\n2. **Environmental Degradation:** The opponent argues that socialist systems prioritize environmental sustainability, but this is not universally true. For example, the former Soviet Union's socialist system was notorious for its environmental degradation, with the Chernobyl disaster being a prime example.\\n3. **Social Injustices:** The opponent claims that socialist systems provide essential services to all citizens, but this often comes at the cost of individual freedoms and creativity. In socialist systems, the government often controls the means of production, leading to a lack of innovation and entrepreneurship.\\n\\n**Logical Reasoning:**\\n\\n1. **Incentivization:** Capitalist systems provide incentives for innovation and hard work, as individuals are rewarded for their efforts. Socialist systems, on the other hand, often rely on government control and redistribution, which can stifle innovation and creativity.\\n2. **Economic Growth:** Capitalist systems have consistently demonstrated higher economic growth rates than socialist systems. According to the World Bank, the average annual GDP growth rate for capitalist countries is 2.5%, compared to 1.5% for socialist countries.\\n\\n**Factual Support:**\\n\\n1. **South Korea vs. North Korea:** The comparison between South Korea, a capitalist country, and North Korea, a socialist country, is a stark example of the differences in economic growth and human development. South Korea has experienced rapid economic growth and become one of the most developed countries in the world, while North Korea remains one of the poorest.\\n2. **China's Economic Miracle:** China's economic growth, often cited as an example of socialist success, is actually a result of the country's shift towards a more capitalist economy. China's economic reforms, which introduced market-oriented policies and encouraged foreign investment, have driven the country's rapid growth and development.\\n\\n**Refutation of Opponent's Logical Reasoning:**\\n\\nThe opponent argues that socialist systems prioritize human well-being over profit, but this ignores the fact that capitalist systems can also prioritize human well-being through corporate social responsibility and philanthropy. Furthermore, socialist systems often rely on government control, which can lead to inefficiencies and corruption.\\n\\nIn conclusion, while socialism has its advantages, it is not superior to capitalism. Capitalist systems provide incentives for innovation, drive economic growth, and protect individual freedoms, making them a more desirable economic system than socialism.\",\n",
       "  \"**Counterargument:**\\n\\nWhile the opponent presents a well-structured argument in favor of capitalism, I strongly disagree with their claims. The opponent's rebuttal to income inequality, environmental degradation, and social injustices is flawed, as it cherry-picks examples that support their narrative while ignoring the broader context.\\n\\n**Rebuttal to Opponent's Rebuttal:**\\n\\n1. **Income Inequality:** The opponent cites Venezuela and Cuba as examples of socialist countries with high income inequality, but this ignores the fact that these countries have been subject to severe economic sanctions and external pressures that have exacerbated their economic struggles. In contrast, countries like Norway and Sweden, which have socialist elements, have achieved low income inequality and high standards of living.\\n2. **Environmental Degradation:** The opponent's example of the former Soviet Union's environmental degradation is a red herring, as it ignores the fact that many capitalist countries, such as the United States, have also struggled with environmental degradation. In fact, a study by the Environmental Protection Agency found that the United States is one of the largest polluters in the world.\\n3. **Social Injustices:** The opponent claims that socialist systems stifle innovation and creativity, but this ignores the fact that many socialist countries have made significant advancements in fields like healthcare, education, and technology. For example, Costa Rica, a country with a strong socialist tradition, has achieved high levels of human development and environmental sustainability.\\n\\n**Logical Reasoning:**\\n\\n1. **Inequality and Instability:** Capitalist systems are inherently unstable and prone to boom-and-bust cycles, which can lead to widespread poverty and inequality. Socialist systems, on the other hand, prioritize human well-being and social welfare, providing a more stable and equitable foundation for economic growth.\\n2. **Democratization of Economy:** Socialist systems allow for greater democratization of the economy, as decision-making power is distributed among stakeholders rather than being controlled by a small elite. This leads to more equitable distribution of resources and a more just society.\\n\\n**Factual Support:**\\n\\n1. **Nordic Countries:** The Nordic countries, which have socialist elements, have achieved high levels of human development, low income inequality, and strong social safety nets. This challenges the opponent's claim that socialist systems are inherently inefficient and lacking in innovation.\\n2. **Cooperative Economies:** Cooperative economies, such as the Mondragon Corporation in Spain, have demonstrated that socialist principles can be applied successfully in a capitalist context, leading to high levels of employee ownership and social responsibility.\\n\\nIn conclusion, while capitalism has its advantages, it is not superior to socialism. Socialist systems prioritize human well-being, social welfare, and environmental sustainability, making them a more desirable economic system than capitalism. The opponent's arguments in favor of capitalism are based on flawed assumptions and cherry-picked examples, and their claims about the superiority of capitalism are not supported by the evidence.\"],\n",
       " 'moderator_summaries': ['The debate between capitalism and socialism centers on differing priorities and interpretations of empirical evidence.  Proponents of capitalism emphasize its demonstrated success in generating wealth and improving living standards, citing higher GDP per capita and lower poverty rates in free-market economies compared to socialist ones.  They acknowledge inequality but argue it\\'s often merit-based and mitigated by the wealth generated, allowing for robust social safety nets.  Concerns about worker exploitation, they contend, are addressable through regulation, not systemic change.  Examples like South Korea\\'s economic growth versus North Korea\\'s stagnation are frequently cited.\\n\\nConversely, proponents of socialism highlight the negative consequences of unregulated capitalism, such as extreme income inequality, environmental degradation, and social injustices. They argue that prioritizing profit over people leads to unsustainable practices and unequal distribution of wealth.  They point to the Nordic model and countries like Costa Rica as examples of societies incorporating socialist principles that achieve high levels of social welfare and environmental sustainability.  While acknowledging potential inefficiencies in centrally planned economies, they emphasize the potential for socialist systems to mitigate market failures and prioritize human well-being over purely economic growth.\\n\\nBoth sides utilize economic data selectively to support their claims.  The debate hinges on the relative weighting given to economic growth versus social equity, environmental sustainability, and the effectiveness of different regulatory mechanisms in addressing the flaws of each system.  There\\'s no single, universally accepted conclusion, as the \"better\" system depends heavily on the prioritization of different values and the specific context in which it\\'s implemented.  The historical record offers examples of both successes and failures under both systems, making definitive judgment difficult.',\n",
       "  'The debate centers on the relative merits of capitalism versus socialism as economic systems.  Perspective A argues that the criticisms leveled against capitalism often stem from a misunderstanding of its potential.  They contend that unregulated, \"unfettered\" capitalism is the problem, not capitalism itself.  They propose that a well-regulated capitalist system, incorporating robust social safety nets and environmental protections, can achieve both economic growth and social equity, citing the Nordic model as an example of a successful mixed economy.  They refute the notion that socialism inherently prioritizes environmental sustainability or human well-being, pointing to the environmental records of some socialist states and arguing that market incentives are crucial for innovation and economic efficiency.\\n\\nPerspective B counters that even regulated capitalism leads to significant inequalities and environmental damage. They argue that socialism\\'s inherent inefficiencies, lack of innovation, and limitations on individual freedoms outweigh any potential benefits.  They use examples like Venezuela and Cuba to challenge the claim that socialist systems are inherently more equitable, and the former Soviet Union to dispute the environmental superiority of socialism.  They cite the economic growth of capitalist countries and the stark contrast between South and North Korea as evidence of capitalism\\'s superiority.  They acknowledge China\\'s economic growth but attribute it to its adoption of market-oriented reforms, rather than its socialist ideology.  Both perspectives utilize examples of specific countries and economic indicators to support their claims, leading to a disagreement on the interpretation of these data and the overall effectiveness of each system.  The core disagreement lies in the definition and interpretation of both \"capitalism\" and \"socialism,\" and the weight given to economic growth versus social equity and environmental sustainability.',\n",
       "  \"The debate centers on the relative merits of capitalism versus socialism.  Perspective A argues that capitalism, while imperfect (acknowledging the US as an outlier in terms of inequality), fosters innovation, efficiency, and higher standards of living for the majority, citing the successes of many capitalist nations with robust social safety nets.  They contend that socialist examples like Venezuela and Cuba demonstrate economic failure due to their socialist systems, not in spite of them, and that the Soviet Union's environmental record refutes claims of inherent socialist environmentalism.\\n\\nPerspective B counters that Perspective A cherry-picks examples, ignoring the success of socialist-leaning countries like Norway and Sweden, and the negative environmental impact of many capitalist nations.  They argue that sanctions and external pressures unfairly impact socialist countries like Venezuela and Cuba, and that socialist principles, as seen in the Nordic model and cooperative economies like Mondragon, can lead to high standards of living, reduced inequality, and greater social welfare.  They further contend that capitalism's inherent instability and concentration of power are detrimental compared to socialism's focus on equitable resource distribution and democratic economic control.\\n\\nBoth perspectives utilize selective examples to support their claims, highlighting the complexity of comparing economic systems with diverse implementations and external factors influencing their outcomes.  A conclusive determination of superiority remains elusive, as the success of each system appears highly dependent on specific contextual factors and implementation details.\"],\n",
       " 'winner_list': ['A', 'A', 'A'],\n",
       " 'next_turn': 'a',\n",
       " 'turns_completed': 3,\n",
       " 'final_synthesis': 'The debate between capitalism and socialism is a complex one, lacking a simple \"better\" system.  Both ideologies offer distinct advantages and disadvantages, and their relative merits depend heavily on context, implementation, and the prioritization of different societal values.\\n\\n**Capitalism\\'s Strengths:**  Historically, capitalist systems have demonstrated a remarkable capacity for wealth creation and technological innovation.  The competitive market incentivizes efficiency, productivity, and the development of new goods and services, leading to higher overall standards of living in many countries.  Furthermore, the potential for upward mobility, though imperfect, is often greater under capitalism than under socialist systems.  The dynamism of free markets allows for quicker adaptation to changing consumer demands and technological advancements.  However, this dynamism can also lead to instability, boom-and-bust cycles, and periods of significant economic hardship for certain segments of the population.\\n\\n**Capitalism\\'s Weaknesses:** Unfettered capitalism frequently leads to significant income inequality, environmental degradation, and exploitation of workers.  The relentless pursuit of profit can incentivize unsustainable practices, externalizing costs onto society and the environment.  While regulation can mitigate these issues, the effectiveness of such regulation varies greatly across countries and is often subject to political influence and lobbying.  Furthermore, the concentration of wealth and power in the hands of a few can undermine democratic processes and create systemic barriers to social mobility.\\n\\n**Socialism\\'s Strengths:** Socialist systems prioritize social welfare and equality, aiming to provide essential services like healthcare, education, and housing to all citizens regardless of their economic status.  This focus on human well-being can lead to greater social cohesion and reduced inequality.  Furthermore, socialist principles can encourage environmental sustainability by prioritizing long-term social and ecological well-being over short-term economic gains.  However, the implementation of socialist ideals has varied widely, with some systems achieving notable successes while others have experienced significant economic failures.\\n\\n**Socialism\\'s Weaknesses:**  Centrally planned economies have historically struggled with inefficiency, a lack of innovation, and shortages of goods and services.  The absence of market mechanisms can stifle competition and limit responsiveness to consumer demand.  Furthermore, socialist systems can suppress individual freedoms and limit economic opportunities, leading to a lack of dynamism and reduced overall economic growth compared to capitalist systems.  The degree to which these weaknesses manifest depends heavily on the specific implementation of socialist policies.\\n\\n**The Mixed Economy Approach:**  Many successful economies today incorporate elements of both capitalism and socialism, creating mixed economies.  These systems often leverage the efficiency and innovation of market mechanisms while implementing social safety nets and regulations to mitigate inequality and environmental damage.  The Nordic countries serve as frequently cited examples of this approach, demonstrating that a balance between market forces and social welfare programs can lead to high standards of living, low inequality, and strong social cohesion.\\n\\n**Conclusion:**  The \"better\" system is not a binary choice.  The optimal economic model likely involves a carefully calibrated balance between the strengths of capitalism and socialism, tailored to the specific circumstances and values of a given society.  The ongoing debate should focus on finding the most effective ways to harness the benefits of both ideologies while mitigating their respective drawbacks, rather than advocating for the absolute superiority of one over the other.'}"
      ]
     },
     "execution_count": 51,
     "metadata": {},
     "output_type": "execute_result"
    }
   ],
   "source": [
    "question=\"capitalism better than socialism\"\n",
    "initial_state: DebateState = {\n",
    "    \"topic\": question,\n",
    "    \"perspective_a\": [],\n",
    "    \"perspective_b\": [],\n",
    "    \"moderator_summary\": [],\n",
    "    \"winner_list\": [],\n",
    "    \"current_turn\": \"a\",\n",
    "    \"turns_completed\": 0,\n",
    "    \"final_synthesis\": \"\"\n",
    "}\n",
    "\n",
    "app.invoke(initial_state)"
   ]
  },
  {
   "cell_type": "code",
   "execution_count": null,
   "metadata": {},
   "outputs": [],
   "source": []
  },
  {
   "cell_type": "code",
   "execution_count": null,
   "metadata": {},
   "outputs": [],
   "source": []
  },
  {
   "cell_type": "code",
   "execution_count": null,
   "metadata": {},
   "outputs": [],
   "source": []
  },
  {
   "cell_type": "code",
   "execution_count": null,
   "metadata": {},
   "outputs": [],
   "source": []
  }
 ],
 "metadata": {
  "kernelspec": {
   "display_name": "lang_graph_venv",
   "language": "python",
   "name": "python3"
  },
  "language_info": {
   "codemirror_mode": {
    "name": "ipython",
    "version": 3
   },
   "file_extension": ".py",
   "mimetype": "text/x-python",
   "name": "python",
   "nbconvert_exporter": "python",
   "pygments_lexer": "ipython3",
   "version": "3.11.5"
  }
 },
 "nbformat": 4,
 "nbformat_minor": 2
}
