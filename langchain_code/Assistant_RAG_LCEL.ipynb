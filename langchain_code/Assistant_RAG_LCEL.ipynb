{
 "cells": [
  {
   "cell_type": "code",
   "execution_count": null,
   "metadata": {},
   "outputs": [],
   "source": [
    "import sys\n",
    "import os\n",
    "current_dir = os.getcwd()\n",
    "sys.path.append(os.path.abspath(os.path.join(current_dir, '..')))\n",
    "from IPython.display import Image, display\n"
   ]
  },
  {
   "cell_type": "code",
   "execution_count": 2,
   "metadata": {},
   "outputs": [],
   "source": [
    "\n",
    "GOOGLE_API_KEY=os.getenv(\"GEMINI_API_KEY1\")\n",
    "TAVILY_API_KEY=os.getenv(\"TAVILY_API_KEY\")\n",
    "GROQ_API_KEY=os.getenv(\"GROQ_API\")\n",
    "HUGGINGFACE_API=os.getenv(\"HUGGINGFACE_API_KEY\")\n",
    "LANGCHAIN_PROJECT=os.getenv(\"LANGCHAIN_PROJECT\") or \"sample_agent_project\""
   ]
  },
  {
   "cell_type": "code",
   "execution_count": 3,
   "metadata": {},
   "outputs": [],
   "source": [
    "os.environ[\"GOOGLE_API_KEY\"] = GOOGLE_API_KEY\n",
    "os.environ[\"TAVILY_API_KEY\"] = TAVILY_API_KEY\n",
    "os.environ[\"GROQ_API_KEY\"]= GROQ_API_KEY\n",
    "os.environ[\"HUGGINGFACE_API_KEY\"] = HUGGINGFACE_API"
   ]
  },
  {
   "cell_type": "code",
   "execution_count": 4,
   "metadata": {},
   "outputs": [],
   "source": [
    "from langchain_google_genai import GoogleGenerativeAIEmbeddings\n",
    "#embeddings = GoogleGenerativeAIEmbeddings(model=\"models/embedding-001\")\n",
    "\n",
    "from langchain_google_genai import ChatGoogleGenerativeAI\n",
    "llm = ChatGoogleGenerativeAI(model=\"gemini-1.5-flash\")"
   ]
  },
  {
   "cell_type": "code",
   "execution_count": 5,
   "metadata": {},
   "outputs": [],
   "source": [
    "from langchain_groq import ChatGroq\n",
    "import os\n",
    "llm=ChatGroq(model_name=\"Gemma2-9b-It\")"
   ]
  },
  {
   "cell_type": "code",
   "execution_count": 6,
   "metadata": {},
   "outputs": [],
   "source": [
    "\n",
    "from langchain_core.chat_history import BaseChatMessageHistory\n",
    "from langchain_core.chat_history import InMemoryChatMessageHistory\n",
    "from langchain_core.runnables.history import RunnableWithMessageHistory\n",
    "from langchain_core.messages import AIMessage"
   ]
  },
  {
   "cell_type": "code",
   "execution_count": 7,
   "metadata": {},
   "outputs": [],
   "source": [
    "\n",
    "store={}\n",
    "\n",
    "def get_session_history(session_id: str) -> BaseChatMessageHistory:\n",
    "    if session_id not in store:\n",
    "        store[session_id] = InMemoryChatMessageHistory()\n",
    "    return store[session_id]"
   ]
  },
  {
   "cell_type": "code",
   "execution_count": 8,
   "metadata": {},
   "outputs": [],
   "source": [
    "\n",
    "model_with_memory=RunnableWithMessageHistory(llm,get_session_history)"
   ]
  },
  {
   "cell_type": "code",
   "execution_count": 9,
   "metadata": {},
   "outputs": [
    {
     "data": {
      "text/plain": [
       "\"Namaste! 👋 \\n\\nIt's lovely to hear from you.  \\n\\nIs there anything you'd like to talk about? Perhaps you have questions about me, or maybe you want to share something about Nepal? I'm here to listen and chat. 😊\\n\""
      ]
     },
     "execution_count": 9,
     "metadata": {},
     "output_type": "execute_result"
    }
   ],
   "source": [
    "config = {\"configurable\": {\"session_id\": \"demo\"}}\n",
    "\n",
    "model_with_memory.invoke((\"Hi! I'm from Nepal\"),config=config).content\n"
   ]
  },
  {
   "cell_type": "code",
   "execution_count": 10,
   "metadata": {},
   "outputs": [
    {
     "data": {
      "text/plain": [
       "\"You said you're from Nepal!  \\n\\nNepal is a beautiful country in South Asia, known for its stunning Himalayan mountains, including Mount Everest. 🏔️  \\n\\nHow are you enjoying your day today? 😊 \\n\""
      ]
     },
     "execution_count": 10,
     "metadata": {},
     "output_type": "execute_result"
    }
   ],
   "source": [
    "model_with_memory.invoke((\"tell me where I am from?\"),config=config).content\n"
   ]
  },
  {
   "cell_type": "code",
   "execution_count": 11,
   "metadata": {},
   "outputs": [
    {
     "data": {
      "text/plain": [
       "{'demo': InMemoryChatMessageHistory(messages=[HumanMessage(content=\"Hi! I'm from Nepal\", additional_kwargs={}, response_metadata={}), AIMessage(content=\"Namaste! 👋 \\n\\nIt's lovely to hear from you.  \\n\\nIs there anything you'd like to talk about? Perhaps you have questions about me, or maybe you want to share something about Nepal? I'm here to listen and chat. 😊\\n\", additional_kwargs={}, response_metadata={'token_usage': {'completion_tokens': 57, 'prompt_tokens': 16, 'total_tokens': 73, 'completion_time': 0.103636364, 'prompt_time': 0.001964346, 'queue_time': 0.234450617, 'total_time': 0.10560071}, 'model_name': 'Gemma2-9b-It', 'system_fingerprint': 'fp_10c08bf97d', 'finish_reason': 'stop', 'logprobs': None}, id='run-4dad3829-6336-4b49-b424-92b0535142dd-0', usage_metadata={'input_tokens': 16, 'output_tokens': 57, 'total_tokens': 73}), HumanMessage(content='tell me where I am from?', additional_kwargs={}, response_metadata={}), AIMessage(content=\"You said you're from Nepal!  \\n\\nNepal is a beautiful country in South Asia, known for its stunning Himalayan mountains, including Mount Everest. 🏔️  \\n\\nHow are you enjoying your day today? 😊 \\n\", additional_kwargs={}, response_metadata={'token_usage': {'completion_tokens': 48, 'prompt_tokens': 88, 'total_tokens': 136, 'completion_time': 0.087272727, 'prompt_time': 0.00409004, 'queue_time': 0.23301317800000002, 'total_time': 0.091362767}, 'model_name': 'Gemma2-9b-It', 'system_fingerprint': 'fp_10c08bf97d', 'finish_reason': 'stop', 'logprobs': None}, id='run-7d716423-8abf-4e19-b869-1ea6f22b454e-0', usage_metadata={'input_tokens': 88, 'output_tokens': 48, 'total_tokens': 136})])}"
      ]
     },
     "execution_count": 11,
     "metadata": {},
     "output_type": "execute_result"
    }
   ],
   "source": [
    "store"
   ]
  },
  {
   "cell_type": "markdown",
   "metadata": {},
   "source": [
    "## RAG"
   ]
  },
  {
   "cell_type": "code",
   "execution_count": 12,
   "metadata": {},
   "outputs": [],
   "source": [
    "from langchain_community.document_loaders import TextLoader, DirectoryLoader\n",
    "from langchain.text_splitter import RecursiveCharacterTextSplitter\n",
    "from langchain_community.vectorstores import Chroma\n",
    "from langchain import PromptTemplate\n",
    "from langchain_core.runnables import RunnableParallel, RunnablePassthrough , RunnableLambda\n",
    "from langchain_core.output_parsers import StrOutputParser"
   ]
  },
  {
   "cell_type": "code",
   "execution_count": 13,
   "metadata": {},
   "outputs": [
    {
     "name": "stderr",
     "output_type": "stream",
     "text": [
      "C:\\Users\\prabigya\\AppData\\Local\\Temp\\ipykernel_12104\\3381050486.py:6: LangChainDeprecationWarning: The class `HuggingFaceBgeEmbeddings` was deprecated in LangChain 0.2.2 and will be removed in 1.0. An updated version of the class exists in the :class:`~langchain-huggingface package and should be used instead. To use it run `pip install -U :class:`~langchain-huggingface` and import as `from :class:`~langchain_huggingface import HuggingFaceEmbeddings``.\n",
      "  embeddings = HuggingFaceBgeEmbeddings(\n",
      "c:\\Users\\prabigya\\miniconda3\\envs\\lang_graph_venv\\Lib\\site-packages\\tqdm\\auto.py:21: TqdmWarning: IProgress not found. Please update jupyter and ipywidgets. See https://ipywidgets.readthedocs.io/en/stable/user_install.html\n",
      "  from .autonotebook import tqdm as notebook_tqdm\n",
      "c:\\Users\\prabigya\\miniconda3\\envs\\lang_graph_venv\\Lib\\site-packages\\huggingface_hub\\file_download.py:142: UserWarning: `huggingface_hub` cache-system uses symlinks by default to efficiently store duplicated files but your machine does not support them in C:\\Users\\prabigya\\.cache\\huggingface\\hub\\models--BAAI--bge-base-en-v1.5. Caching files will still work but in a degraded version that might require more space on your disk. This warning can be disabled by setting the `HF_HUB_DISABLE_SYMLINKS_WARNING` environment variable. For more details, see https://huggingface.co/docs/huggingface_hub/how-to-cache#limitations.\n",
      "To support symlinks on Windows, you either need to activate Developer Mode or to run Python as an administrator. In order to activate developer mode, see this article: https://docs.microsoft.com/en-us/windows/apps/get-started/enable-your-device-for-development\n",
      "  warnings.warn(message)\n"
     ]
    }
   ],
   "source": [
    "from langchain.embeddings import HuggingFaceBgeEmbeddings\n",
    "\n",
    "model_name = \"BAAI/bge-base-en-v1.5\"\n",
    "model_kwargs = {'device': 'cpu'}\n",
    "encode_kwargs = {'normalize_embeddings': True} # set True to compute cosine similarity\n",
    "embeddings = HuggingFaceBgeEmbeddings(\n",
    "    model_name=model_name,\n",
    "    model_kwargs=model_kwargs,\n",
    "    encode_kwargs=encode_kwargs,\n",
    ")"
   ]
  },
  {
   "cell_type": "code",
   "execution_count": 17,
   "metadata": {},
   "outputs": [],
   "source": [
    "loader = DirectoryLoader(r\"C:\\Users\\prabigya\\Desktop\\work_here\\langgraph_work\\dataset_folder\\txt_files\", glob=\"./*.txt\", loader_cls=TextLoader)\n",
    "docs = loader.load()\n",
    "\n",
    "### Creating Chunks using RecursiveCharacterTextSplitter\n",
    "\n",
    "text_splitter = RecursiveCharacterTextSplitter(\n",
    "    chunk_size=200,\n",
    "    chunk_overlap=10,\n",
    "    length_function=len\n",
    ")\n",
    "new_docs = text_splitter.split_documents(documents=docs)\n",
    "doc_strings = [doc.page_content for doc in new_docs]\n",
    "\n",
    "\n",
    "db = Chroma.from_documents(new_docs, embeddings)\n",
    "retriever = db.as_retriever(search_kwargs={\"k\": 4})\n"
   ]
  },
  {
   "cell_type": "code",
   "execution_count": 18,
   "metadata": {},
   "outputs": [],
   "source": [
    "template = \"\"\"Answer the question based only on the following context:\n",
    "{context}\n",
    "\n",
    "Question: {question}\n",
    "\"\"\"\n",
    "prompt = PromptTemplate.from_template(template)\n",
    "\n",
    "\n",
    "retrieval_chain = (\n",
    "    RunnableParallel({\"context\": retriever, \"question\": RunnablePassthrough()})\n",
    "    | prompt\n",
    "    | llm\n",
    "    | StrOutputParser()\n",
    "    )"
   ]
  },
  {
   "cell_type": "code",
   "execution_count": 20,
   "metadata": {},
   "outputs": [
    {
     "name": "stdout",
     "output_type": "stream",
     "text": [
      "When selecting between RAG and fine-tuning, consider the following:\n",
      "\n",
      "* **RAG** is better for transparent solutions with dynamic data (e.g., customer-facing chatbots) because it enables adaptation to task-, user-, project- and organization-specific contexts without requiring multiple specialized models.\n",
      "\n",
      "* **Fine-tuning** is better when deep domain customization is needed (e.g., healthcare). \n",
      "\n",
      "\n",
      "RAG systems are more complex than fine-tuning systems.  \n",
      "\n"
     ]
    }
   ],
   "source": [
    "\n",
    "question =\"Fine Tuning vS RAG\"\n",
    "print(retrieval_chain.invoke(question))"
   ]
  },
  {
   "cell_type": "markdown",
   "metadata": {},
   "source": [
    "## Tools and Agents"
   ]
  },
  {
   "cell_type": "code",
   "execution_count": 21,
   "metadata": {},
   "outputs": [],
   "source": [
    "from langchain_community.tools import WikipediaQueryRun\n",
    "from langchain_community.utilities import WikipediaAPIWrapper"
   ]
  },
  {
   "cell_type": "code",
   "execution_count": 34,
   "metadata": {},
   "outputs": [],
   "source": [
    "api_wrapper=WikipediaAPIWrapper()\n",
    "tool1=WikipediaQueryRun(api_wrapper=api_wrapper)"
   ]
  },
  {
   "cell_type": "code",
   "execution_count": 35,
   "metadata": {},
   "outputs": [
    {
     "name": "stdout",
     "output_type": "stream",
     "text": [
      "Page: LangChain\n",
      "Summary: LangChain is a software framework that helps facilitate the integration of large language models (LLMs) into applications. As a language model integration framework, LangChain's use-cases largely overlap with those of language models in general, including document analysis and summarization, chatbots, and code analysis.\n",
      "\n",
      "\n",
      "\n",
      "Page: Retrieval-augmented generation\n",
      "Summary: Retrieval-augmented generation (RAG) is a technique that enables generative artificial intelligence (Gen AI) models to retrieve and incorporate new information. It modifies interactions with a large language model (LLM) so that the model responds to user queries with reference to a specified set of documents, using this information to supplement information from its pre-existing training data. This allows LLMs to use domain-specific and/or updated information.  Use cases include providing chatbot access to internal company data or generating responses based on authoritative sources.\n",
      "RAG improves large language models (LLMs) by incorporating information retrieval before generating responses. Unlike traditional LLMs that rely on static training data, RAG pulls relevant text from databases, uploaded documents, or web sources. According to Ars Technica, \"RAG is a way of improving LLM performance, in essence by blending the LLM process with a web search or other document look-up process to help LLMs stick to the facts.\" This method helps reduce AI hallucinations, which have led to real-world issues like chatbots inventing policies or lawyers citing nonexistent legal cases. By dynamically retrieving information, RAG enables AI to provide more accurate responses without frequent retraining.\n",
      "\n",
      "\n",
      "\n",
      "Page: Milvus (vector database)\n",
      "Summary: Milvus is a distributed vector database developed by Zilliz. It is available as both open-source software and a cloud service.\n",
      "Milvus is an open-source project under LF AI & Data Foundation distributed under the Apache License 2.0.\n",
      "\n",
      "\n"
     ]
    }
   ],
   "source": [
    "print(tool1.run({\"query\": \"langchain\"}))"
   ]
  },
  {
   "cell_type": "code",
   "execution_count": 36,
   "metadata": {},
   "outputs": [],
   "source": [
    "from langchain_community.tools import YouTubeSearchTool\n",
    "tool2=YouTubeSearchTool()"
   ]
  },
  {
   "cell_type": "code",
   "execution_count": 37,
   "metadata": {},
   "outputs": [
    {
     "data": {
      "text/plain": [
       "\"['https://www.youtube.com/watch?v=UWofOk4UUx4&pp=ygUXc3VubmUga2F0aGEgZmlyc3QgdmlkZW8%3D', 'https://www.youtube.com/watch?v=UFx0m4AUz6U&pp=ygUXc3VubmUga2F0aGEgZmlyc3QgdmlkZW8%3D']\""
      ]
     },
     "execution_count": 37,
     "metadata": {},
     "output_type": "execute_result"
    }
   ],
   "source": [
    "tool2.invoke(\"sunne katha first video\")"
   ]
  },
  {
   "cell_type": "code",
   "execution_count": 38,
   "metadata": {},
   "outputs": [],
   "source": [
    "from langchain_community.tools.tavily_search import TavilySearchResults\n",
    "\n",
    "tool3=TavilySearchResults()"
   ]
  },
  {
   "cell_type": "code",
   "execution_count": 39,
   "metadata": {},
   "outputs": [
    {
     "data": {
      "text/plain": [
       "[{'title': 'Burning Man flooding: What happened to stranded festivalgoers?',\n",
       "  'url': 'https://abcnews.go.com/US/burning-man-flooding-happened-stranded-festivalgoers/story?id=102908331',\n",
       "  'content': 'Attendees look at a double rainbow over flooding on a desert plain at the Burning Man festival in Black Rock City, Nevada, September 1, 2023. Camps are set on a muddy desert plain at the Burning Man festival in Black Rock, City, Nevada, Sept. Structures stand in mud after heavy rain during the Burning Man festival in Black Rock City, Nevada, Sept. In response to the unusual weather, event organizers shut down traffic in or out of what is called Black Rock City -- where the festival is held in the desert -- including the local airport. Attendees look at a double rainbow over flooding on a desert plain at the Burning Man festival in Black Rock City, Nevada, September 1, 2023.',\n",
       "  'score': 0.7395922},\n",
       " {'title': \"How One Man Escaped From Burning Man 2023's Floods\",\n",
       "  'url': 'https://www.outsideonline.com/outdoor-adventure/exploration-survival/burning-man-2023-flooding-rain/',\n",
       "  'content': 'By now you probably know that Black Rock City, Nevada—the site of the annual Burning Man arts and music festival—turned into one gigantic mud puddle this past weekend. A few from my friends’ tent, as five of us waited for the storm to pass. Looking out of my friend’s tent I could see that those cracks had filled in with water and deep puddles had formed. Some ignored the five-mile-per-hour speed limit and blasted through the mud, fishtailing and coming within feet of people’s tents. Friends help me load the mud-laden flood of my tent into a contractor bag. In the 37 years that Burning Man has been around (and the 32 years that it’s been in the Black Rock Desert) it has never flooded this badly during the event itself.',\n",
       "  'score': 0.6922474},\n",
       " {'title': 'Burning Man festival: 70,000 attendees stranded and one dead after ...',\n",
       "  'url': 'https://www.youtube.com/watch?v=-CPGsjvAOUs',\n",
       "  'content': 'The Burning Man counter-culture festival in Nevada was hit by flooding that left thousands of attendees stranded in the desert on Saturday.',\n",
       "  'score': 0.57236487},\n",
       " {'title': 'Burning Man flooding strands tens of thousands at Nevada site',\n",
       "  'url': 'https://apnews.com/article/burning-man-festival-flooding-entrance-closed-d6cd88ee009c6e1f6d2d92739ec1ca18',\n",
       "  'content': 'Mideast Wars Russia-Ukraine War Español China Asia Pacific Latin America Europe Africa ![Image 3: In this satellite photo provided by Maxar Technologies, an overview of Burning Man festival in Black Rock, Nev on Monday, Aug. 28, 2023. ![Image 4: In this satellite photo provided by Maxar Technologies, an overview of Burning Man festival in Black Rock, Nev on Monday, Aug. 28, 2023. ![Image 5: In this satellite photo provided by Maxar Technologies, an overview of Burning Man festival in Black Rock, Nev on Monday, Aug. 28, 2023. “Already, everywhere from Reno up to the Burning Man area, Black Rock, we’ve already exceeded that — and it’s only three days into the month,” he said.',\n",
       "  'score': 0.46075046},\n",
       " {'title': 'Thousands of Burning Man festival attendees remain stuck in ... - CNN',\n",
       "  'url': 'https://www.cnn.com/2023/09/03/us/burning-man-storms-shelter-sunday/index.html',\n",
       "  'content': 'More than 70,000 Burning Man festival attendees remain stuck in Nevada desert after rain | CNN CNN10 About CNN A death at the festival that was confirmed by authorities on Saturday was “unrelated to the weather,” Burning Man organizers said Sunday night. “We do not currently have an estimated time for the roads to be dry enough for RVs or vehicles to navigate safely,” Burning Man organizers said in a Saturday evening statement. Vehicles trying to drive out will get stuck in the mud, Burning Man organizers said Saturday. CNN Andrew Hyde, another attendee stuck at the Burning Man, said despite the muddy conditions making it difficult to walk, the weather has taken the meaning of the event back to its roots. CNN10 About CNN',\n",
       "  'score': 0.36466494}]"
      ]
     },
     "execution_count": 39,
     "metadata": {},
     "output_type": "execute_result"
    }
   ],
   "source": [
    "tool3.invoke({\"query\": \"What happened in the latest burning man floods\"})\n"
   ]
  },
  {
   "cell_type": "code",
   "execution_count": 41,
   "metadata": {},
   "outputs": [],
   "source": [
    "from langchain.agents import AgentType\n",
    "from langchain.agents import load_tools \n",
    "from langchain.agents import initialize_agent"
   ]
  },
  {
   "cell_type": "code",
   "execution_count": 42,
   "metadata": {},
   "outputs": [
    {
     "name": "stderr",
     "output_type": "stream",
     "text": [
      "C:\\Users\\prabigya\\AppData\\Local\\Temp\\ipykernel_12104\\3692051841.py:2: LangChainDeprecationWarning: LangChain agents will continue to be supported, but it is recommended for new use cases to be built with LangGraph. LangGraph offers a more flexible and full-featured framework for building agents, including support for tool-calling, persistence of state, and human-in-the-loop workflows. For details, refer to the `LangGraph documentation <https://langchain-ai.github.io/langgraph/>`_ as well as guides for `Migrating from AgentExecutor <https://python.langchain.com/docs/how_to/migrate_agent/>`_ and LangGraph's `Pre-built ReAct agent <https://langchain-ai.github.io/langgraph/how-tos/create-react-agent/>`_.\n",
      "  agent=initialize_agent(tools,llm,agent=AgentType.ZERO_SHOT_REACT_DESCRIPTION,verbose=True)\n"
     ]
    }
   ],
   "source": [
    "tools =[tool1,tool2,tool3]\n",
    "agent=initialize_agent(tools,llm,agent=AgentType.ZERO_SHOT_REACT_DESCRIPTION,verbose=True)\n"
   ]
  },
  {
   "cell_type": "code",
   "execution_count": 43,
   "metadata": {},
   "outputs": [
    {
     "name": "stderr",
     "output_type": "stream",
     "text": [
      "C:\\Users\\prabigya\\AppData\\Local\\Temp\\ipykernel_12104\\1884584589.py:1: LangChainDeprecationWarning: The method `Chain.run` was deprecated in langchain 0.1.0 and will be removed in 1.0. Use :meth:`~invoke` instead.\n",
      "  agent.run(\"What is current GDP of India?\")\n"
     ]
    },
    {
     "name": "stdout",
     "output_type": "stream",
     "text": [
      "\n",
      "\n",
      "\u001b[1m> Entering new AgentExecutor chain...\u001b[0m\n",
      "\u001b[32;1m\u001b[1;3mThought: I need to find the current GDP of India. Tavily should be good for this as it is optimized for current information.\n",
      "Action: tavily_search_results_json\n",
      "Action Input: India GDP \u001b[0m\n",
      "Observation: \u001b[38;5;200m\u001b[1;3m[{'title': 'India GDP - Trading Economics', 'url': 'https://tradingeconomics.com/india/gdp', 'content': 'India GDP Interest Rate India GDP The Gross Domestic Product (GDP) in India was worth 3549.92 billion US dollars in 2023, according to official data from the World Bank. This page provides the latest reported value for - India GDP - plus previous releases, historical high and low, short-term forecast and long-term prediction, economic calendar, survey consensus and news. | GDP Growth Rate YoY | 5.40 | 6.70 | percent | Sep 2024 | | GDP Growth Rate | 1.10 | 1.10 | percent | Sep 2024 | India GDP GDP GDP GDP Growth Rate GDP Growth Rate YoY Economic Calendar Historical Data News Stream Earnings Releases Credit Ratings Forecasts Markets Currencies Stocks Commodities Bonds Crypto Get Started Ratings', 'score': 0.9121316}, {'title': 'Economy of India - Wikipedia', 'url': 'https://en.wikipedia.org/wiki/Economy_of_India', 'content': \"Nearly 70% of India's GDP is driven by domestic consumption;[72] country remains the world's fourth-largest consumer market.[73] Aside private consumption, India's GDP is also fueled by government spending, investments, and exports.[74] In 2022, India was the world's 10th-largest importer and the 8th-largest exporter.[75] India has been a member of the World Trade Organization since 1 January 1995.[76] It ranks 63rd on the ease of doing business index and 40th on the Global Competitiveness Index.[77][78] India has one of the world's highest number of billionaires along with extreme income inequality.[79][80] Economists and social scientists often consider India a welfare state.[6][8][7][9] India is officially declared a socialist state as per the constitution.[10][11] India's overall social welfare spending stood at 8.6% of GDP in 2021-22, which is much lower than the average for OECD nations.[81][82] With 586 million workers, the Indian labour force is the world's second-largest.[23] Despite having one of the longest working hours, India has one of the lowest workforce productivity levels in the world.[83][84][85][86][87] Economists say that due to structural economic problems, India is experiencing jobless economic growth.[88]\", 'score': 0.75355774}, {'title': 'GDP (current US$) - India - World Bank Open Data', 'url': 'https://data.worldbank.org/indicator/NY.GDP.MKTP.CD?locations=IN', 'content': 'GDP (current US$) - India | Data Data GDP (current US$)India Browse byCountryorIndicator Data Catalog DataBank Browse byCountryIndicator Data Programs International Debt Statistics Other Books and Reports For Developers GDP (current US$) - India ========================= Similar values Highest values Lowest values GDP (constant 2015 US$)  GDP (constant LCU)  GDP: linked series (current LCU)  GDP, PPP (constant 2021 international $)  GDP (current LCU)  GDP, PPP (current international $)  #### DataBank Explore Our DataBank Country Most Recent Value All Countries and Economies Country Most Recent Value REPORT FRAUD OR CORRUPTION This site uses cookies to optimize functionality and give you the best possible experience. If you continue to navigate this website beyond this page, cookies will be placed on your browser.', 'score': 0.5786631}, {'title': 'India - IMF DataMapper', 'url': 'https://www.imf.org/external/datamapper/profile/IND', 'content': 'Current account balance, percent of GDP Percent of GDP Percent of GDP Percent of GDP % of GDP % of GDP Percent of GDP Percent of GDP Percent of GDP Percent of GDP Percent of GDP AI Preparedness Index (AIPI) 5 indicators, 2023 - 2023 Show all Government revenue, percent of GDP % of GDP Government expenditure, percent of GDP % of GDP Government primary expenditure, percent of GDP % of GDP Interest paid on public debt, percent of GDP % of GDP Historical Public Debt Database 1 indicator, 1800 - 2015 % of GDP Private Inflows excluding Direct Investment (% of GDP) Capital Account Openness Index (April 2016) 18 indicators, 2000 - 2013 Show all', 'score': 0.4040141}, {'title': 'India and the IMF', 'url': 'https://www.imf.org/en/Countries/IND', 'content': 'India and the IMF IMF at a Glance IMF Members IMF Finances IMF Financial Statements IMF in History IMF Researchers Other IMF Events IMF reports and publications by country IMF Regional Reports IMF and Europe IMF Regional Office for Asia and the Pacific IMF Regional Office in Riyadh IMF Training About the IMF IMF Data Portal IMF Finances IMF NOTES IMF Bookstore IMF Executive Board Concludes 2024 Article IV Consultation with India India: 2024 Article IV Consultation-Press Release; Staff Report; and Statement by the Executive Director for India Transcript of Press Briefing: Asia and Pacific Department Regional Economic Outlook October 24 Opening Remarks at the press conference on the release of the IMF’s Regional Economic Outlook for Asia and Pacific', 'score': 0.09522337}]\u001b[0m\n",
      "Thought:\u001b[32;1m\u001b[1;3mThought: The first result from Tavily states that India's GDP in 2023 was 3549.92 billion US dollars. \n",
      "Final Answer: The current GDP of India is 3549.92 billion US dollars. \n",
      "\n",
      "\n",
      "\n",
      "\u001b[0m\n",
      "\n",
      "\u001b[1m> Finished chain.\u001b[0m\n"
     ]
    },
    {
     "data": {
      "text/plain": [
       "'The current GDP of India is 3549.92 billion US dollars.'"
      ]
     },
     "execution_count": 43,
     "metadata": {},
     "output_type": "execute_result"
    }
   ],
   "source": [
    "agent.run(\"What is current GDP of India?\")"
   ]
  },
  {
   "cell_type": "code",
   "execution_count": 47,
   "metadata": {},
   "outputs": [],
   "source": [
    "from langgraph.graph import StateGraph, END\n",
    "from typing import TypedDict\n",
    "\n",
    "class State(TypedDict):\n",
    "    input: str\n",
    "    response: str"
   ]
  },
  {
   "cell_type": "code",
   "execution_count": 55,
   "metadata": {},
   "outputs": [
    {
     "data": {
      "text/plain": [
       "{'response': 'b'}"
      ]
     },
     "execution_count": 55,
     "metadata": {},
     "output_type": "execute_result"
    }
   ],
   "source": [
    "a=State(response=\"b\")\n",
    "a"
   ]
  },
  {
   "cell_type": "code",
   "execution_count": 50,
   "metadata": {},
   "outputs": [],
   "source": [
    "def generate_response(state: State) -> State:\n",
    "    response = llm.invoke(state[\"input\"])\n",
    "    return {\"response\": response.content}\n",
    "\n",
    "def refine_response(state: State) -> State:\n",
    "    prompt = f\"Refine this response to be more concise: {state['response']}\"\n",
    "    refined = llm.invoke(prompt)\n",
    "    return {\"response\": refined.content}"
   ]
  },
  {
   "cell_type": "code",
   "execution_count": 56,
   "metadata": {},
   "outputs": [
    {
     "data": {
      "image/png": "[encoded data removed]",
      "text/plain": [
       "<IPython.core.display.Image object>"
      ]
     },
     "metadata": {},
     "output_type": "display_data"
    }
   ],
   "source": [
    "graph = StateGraph(State)\n",
    "graph.add_node(\"generate\", generate_response)\n",
    "graph.add_node(\"refine\", refine_response)\n",
    "\n",
    "# Add edges\n",
    "graph.add_edge(\"generate\", \"refine\")\n",
    "#graph.add_edge(\"refine\", END)\n",
    "\n",
    "# Set the entry point\n",
    "graph.set_entry_point(\"generate\")\n",
    "\n",
    "# Compile the graph\n",
    "chain = graph.compile()\n",
    "\n",
    "\n",
    "try:\n",
    "    display(Image(chain.get_graph().draw_mermaid_png()))\n",
    "except Exception:\n",
    "    # This requires some extra dependencies and is optional\n",
    "    pass"
   ]
  },
  {
   "cell_type": "code",
   "execution_count": null,
   "metadata": {},
   "outputs": [],
   "source": []
  }
 ],
 "metadata": {
  "kernelspec": {
   "display_name": "lang_graph_venv",
   "language": "python",
   "name": "python3"
  },
  "language_info": {
   "codemirror_mode": {
    "name": "ipython",
    "version": 3
   },
   "file_extension": ".py",
   "mimetype": "text/x-python",
   "name": "python",
   "nbconvert_exporter": "python",
   "pygments_lexer": "ipython3",
   "version": "3.11.5"
  }
 },
 "nbformat": 4,
 "nbformat_minor": 2
}
